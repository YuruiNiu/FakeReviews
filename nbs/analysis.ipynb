{
 "cells": [
  {
   "cell_type": "code",
   "execution_count": 1,
   "metadata": {},
   "outputs": [],
   "source": [
    "from fastai.text.all import *"
   ]
  },
  {
   "cell_type": "code",
   "execution_count": 2,
   "metadata": {},
   "outputs": [],
   "source": [
    "import pandas as pd\n",
    "import gzip\n",
    "import json\n",
    "\n",
    "def parse(path):\n",
    "  g = gzip.open(path, 'rb')\n",
    "  for l in g:\n",
    "    yield json.loads(l)\n",
    "\n",
    "def getDF(path):\n",
    "  i = 0\n",
    "  df = {}\n",
    "  for d in parse(path):\n",
    "    df[i] = d\n",
    "    i += 1\n",
    "  return pd.DataFrame.from_dict(df, orient='index')"
   ]
  },
  {
   "cell_type": "code",
   "execution_count": 3,
   "metadata": {},
   "outputs": [],
   "source": [
    "df = getDF('../data/sample/All_Beauty_5.json.gz')"
   ]
  },
  {
   "cell_type": "code",
   "execution_count": 4,
   "metadata": {},
   "outputs": [
    {
     "data": {
      "text/plain": [
       "(5269, 12)"
      ]
     },
     "execution_count": 4,
     "metadata": {},
     "output_type": "execute_result"
    }
   ],
   "source": [
    "df.shape"
   ]
  },
  {
   "cell_type": "code",
   "execution_count": 5,
   "metadata": {},
   "outputs": [
    {
     "data": {
      "text/plain": [
       "0                                                                                                                                                                                                                                                                                                                                                                                                                                                                                                                                                                                           As advertised. Reasonably priced\n",
       "1                                                                                                                                                                                                                                                                                                                                                                                                            Like the oder and the feel when I put it on my face.  I have tried other brands but the reviews from people I know they prefer the oder of this brand. Not hard on the face when dry.  Does not leave dry skin.\n",
       "2                                                                                                                                                                                                                                                                                                                                                                                                                                                                             I bought this to smell nice after I shave.  When I put it on I smelled awful.  I am 19 and I smelled like a grandmother with too much perfume.\n",
       "3    HEY!! I am an Aqua Velva Man and absolutely love this stuff, been using it for over 50 years. This is a true after shave lotion classic. Not quite sure how many women that have been attracted to me because of Aqua Velva,  I do know for sure that it's just to many to count. Ha.  Not sure how long this has been around but the Williams Company ran a paper advertisement, taken from a 1949 magazine, which features Ralph Bellamy of Detective Story and Ezio Pinza of South Pacific for Aqua Velva After Shave Lotion. I'm sure you all remember Ralph Bellamy and Ezio Pinza from the 40's right.\\n\\nTher...\n",
       "4                                                                                                                                                                                                                                                                                                                                                                              If you ever want to feel pampered by a shampoo this one is the one.  It smells like a wonderful perfume and cleans your hair until it shines plus adding a fullness that most other shampoo's don't give you.  It is expensive, but worth it!\n",
       "Name: reviewText, dtype: object"
      ]
     },
     "execution_count": 5,
     "metadata": {},
     "output_type": "execute_result"
    }
   ],
   "source": [
    "df[\"reviewText\"].head()"
   ]
  },
  {
   "cell_type": "code",
   "execution_count": 6,
   "metadata": {},
   "outputs": [
    {
     "data": {
      "text/plain": [
       "(#16) [Path('../data/sample/Patio_Lawn_and_Garden_5.json.gz'),Path('../data/sample/CDs_and_Vinyl_5.json.gz'),Path('../data/sample/Industrial_and_Scientific_5.json.gz'),Path('../data/sample/Grocery_and_Gourmet_Food_5.json.gz'),Path('../data/sample/Cell_Phones_and_Accessories_5.json.gz'),Path('../data/sample/Luxury_Beauty_5.json.gz'),Path('../data/sample/Office_Products_5.json.gz'),Path('../data/sample/Automotive_5.json.gz'),Path('../data/sample/Appliances_5.json.gz'),Path('../data/sample/Digital_Music_5.json.gz')...]"
      ]
     },
     "execution_count": 6,
     "metadata": {},
     "output_type": "execute_result"
    }
   ],
   "source": [
    "dataset_files = Path('../data/sample/').ls()\n",
    "dataset_files"
   ]
  },
  {
   "cell_type": "code",
   "execution_count": null,
   "metadata": {},
   "outputs": [],
   "source": [
    "frames = [getDF(f) for f in dataset_files]"
   ]
  },
  {
   "cell_type": "code",
   "execution_count": null,
   "metadata": {},
   "outputs": [],
   "source": [
    "type(frames[0]), len(frames)"
   ]
  },
  {
   "cell_type": "code",
   "execution_count": 17,
   "metadata": {},
   "outputs": [],
   "source": [
    "result = pd.concat(frames)"
   ]
  },
  {
   "cell_type": "code",
   "execution_count": 19,
   "metadata": {},
   "outputs": [
    {
     "data": {
      "text/plain": [
       "(8049419, 12)"
      ]
     },
     "execution_count": 19,
     "metadata": {},
     "output_type": "execute_result"
    }
   ],
   "source": [
    "result.shape"
   ]
  },
  {
   "cell_type": "code",
   "execution_count": 18,
   "metadata": {},
   "outputs": [
    {
     "data": {
      "text/html": [
       "<div>\n",
       "<style scoped>\n",
       "    .dataframe tbody tr th:only-of-type {\n",
       "        vertical-align: middle;\n",
       "    }\n",
       "\n",
       "    .dataframe tbody tr th {\n",
       "        vertical-align: top;\n",
       "    }\n",
       "\n",
       "    .dataframe thead th {\n",
       "        text-align: right;\n",
       "    }\n",
       "</style>\n",
       "<table border=\"1\" class=\"dataframe\">\n",
       "  <thead>\n",
       "    <tr style=\"text-align: right;\">\n",
       "      <th></th>\n",
       "      <th>overall</th>\n",
       "      <th>vote</th>\n",
       "      <th>verified</th>\n",
       "      <th>reviewTime</th>\n",
       "      <th>reviewerID</th>\n",
       "      <th>asin</th>\n",
       "      <th>reviewerName</th>\n",
       "      <th>reviewText</th>\n",
       "      <th>summary</th>\n",
       "      <th>unixReviewTime</th>\n",
       "      <th>style</th>\n",
       "      <th>image</th>\n",
       "    </tr>\n",
       "  </thead>\n",
       "  <tbody>\n",
       "    <tr>\n",
       "      <th>0</th>\n",
       "      <td>5.0</td>\n",
       "      <td>2</td>\n",
       "      <td>True</td>\n",
       "      <td>12 11, 2011</td>\n",
       "      <td>AUVPE2KEXBJVT</td>\n",
       "      <td>9539723809</td>\n",
       "      <td>T. E. Kainz</td>\n",
       "      <td>I don't spend a lot on my flags because they really get beat up.  So I but the lesser quality figuring that they'll have to be replaced a couple of times a year anyways.  The fact that this very inexpensive flag is still flying 8 months later pleases me well.  It's up about 20 feet, 7/24, and sees winds averaging 5 to 10 mph on a 'normal' day with the occasional storm friont gusts reaching as high as 60+ mph.  So far (8 months later) it's just now starting to show a little fraying on the ends.  I'll be buying another shortly to have ready when this one finally gives in.</td>\n",
       "      <td>Good quality for the price</td>\n",
       "      <td>1323561600</td>\n",
       "      <td>NaN</td>\n",
       "      <td>NaN</td>\n",
       "    </tr>\n",
       "    <tr>\n",
       "      <th>1</th>\n",
       "      <td>5.0</td>\n",
       "      <td>NaN</td>\n",
       "      <td>True</td>\n",
       "      <td>07 30, 2011</td>\n",
       "      <td>A2F6GES1MBOFXS</td>\n",
       "      <td>9539723809</td>\n",
       "      <td>BluesJamJim</td>\n",
       "      <td>Super fast processing and shipping, if you are looking for flags look no more good quality product and a great company to do business with.</td>\n",
       "      <td>3'x5' Colorado State flag</td>\n",
       "      <td>1311984000</td>\n",
       "      <td>NaN</td>\n",
       "      <td>NaN</td>\n",
       "    </tr>\n",
       "    <tr>\n",
       "      <th>2</th>\n",
       "      <td>5.0</td>\n",
       "      <td>NaN</td>\n",
       "      <td>True</td>\n",
       "      <td>05 4, 2016</td>\n",
       "      <td>A1SDVD3SZI1BAK</td>\n",
       "      <td>9539723809</td>\n",
       "      <td>Gabriel M Martinez</td>\n",
       "      <td>Great product.  I would recommend this product.  I would recommend this product.</td>\n",
       "      <td>Colorado Flag</td>\n",
       "      <td>1462320000</td>\n",
       "      <td>NaN</td>\n",
       "      <td>NaN</td>\n",
       "    </tr>\n",
       "    <tr>\n",
       "      <th>3</th>\n",
       "      <td>5.0</td>\n",
       "      <td>NaN</td>\n",
       "      <td>True</td>\n",
       "      <td>11 2, 2015</td>\n",
       "      <td>A1ZQJ3KCSLUPR3</td>\n",
       "      <td>9539723809</td>\n",
       "      <td>RAJ THE FLASH</td>\n",
       "      <td>GREAT PRICE I LOVE MY STATE AND COUNTRY</td>\n",
       "      <td>RETIRED MILITARY</td>\n",
       "      <td>1446422400</td>\n",
       "      <td>NaN</td>\n",
       "      <td>NaN</td>\n",
       "    </tr>\n",
       "    <tr>\n",
       "      <th>4</th>\n",
       "      <td>5.0</td>\n",
       "      <td>NaN</td>\n",
       "      <td>True</td>\n",
       "      <td>09 1, 2015</td>\n",
       "      <td>ANU8FBZM618M3</td>\n",
       "      <td>9539723809</td>\n",
       "      <td>James R. Mills</td>\n",
       "      <td>Great display flag for the den.</td>\n",
       "      <td>Five Stars</td>\n",
       "      <td>1441065600</td>\n",
       "      <td>NaN</td>\n",
       "      <td>NaN</td>\n",
       "    </tr>\n",
       "  </tbody>\n",
       "</table>\n",
       "</div>"
      ],
      "text/plain": [
       "   overall vote  verified   reviewTime      reviewerID        asin  \\\n",
       "0      5.0    2      True  12 11, 2011   AUVPE2KEXBJVT  9539723809   \n",
       "1      5.0  NaN      True  07 30, 2011  A2F6GES1MBOFXS  9539723809   \n",
       "2      5.0  NaN      True   05 4, 2016  A1SDVD3SZI1BAK  9539723809   \n",
       "3      5.0  NaN      True   11 2, 2015  A1ZQJ3KCSLUPR3  9539723809   \n",
       "4      5.0  NaN      True   09 1, 2015   ANU8FBZM618M3  9539723809   \n",
       "\n",
       "         reviewerName  \\\n",
       "0         T. E. Kainz   \n",
       "1         BluesJamJim   \n",
       "2  Gabriel M Martinez   \n",
       "3       RAJ THE FLASH   \n",
       "4      James R. Mills   \n",
       "\n",
       "                                                                                                                                                                                                                                                                                                                                                                                                                                                                                                                                                                                         reviewText  \\\n",
       "0  I don't spend a lot on my flags because they really get beat up.  So I but the lesser quality figuring that they'll have to be replaced a couple of times a year anyways.  The fact that this very inexpensive flag is still flying 8 months later pleases me well.  It's up about 20 feet, 7/24, and sees winds averaging 5 to 10 mph on a 'normal' day with the occasional storm friont gusts reaching as high as 60+ mph.  So far (8 months later) it's just now starting to show a little fraying on the ends.  I'll be buying another shortly to have ready when this one finally gives in.   \n",
       "1                                                                                                                                                                                                                                                                                                                                                                                                                                                       Super fast processing and shipping, if you are looking for flags look no more good quality product and a great company to do business with.   \n",
       "2                                                                                                                                                                                                                                                                                                                                                                                                                                                                                                                  Great product.  I would recommend this product.  I would recommend this product.   \n",
       "3                                                                                                                                                                                                                                                                                                                                                                                                                                                                                                                                                           GREAT PRICE I LOVE MY STATE AND COUNTRY   \n",
       "4                                                                                                                                                                                                                                                                                                                                                                                                                                                                                                                                                                   Great display flag for the den.   \n",
       "\n",
       "                      summary  unixReviewTime style image  \n",
       "0  Good quality for the price      1323561600   NaN   NaN  \n",
       "1   3'x5' Colorado State flag      1311984000   NaN   NaN  \n",
       "2               Colorado Flag      1462320000   NaN   NaN  \n",
       "3            RETIRED MILITARY      1446422400   NaN   NaN  \n",
       "4                  Five Stars      1441065600   NaN   NaN  "
      ]
     },
     "execution_count": 18,
     "metadata": {},
     "output_type": "execute_result"
    }
   ],
   "source": [
    "result.head()"
   ]
  },
  {
   "cell_type": "code",
   "execution_count": 22,
   "metadata": {},
   "outputs": [
    {
     "data": {
      "text/plain": [
       "['overall',\n",
       " 'vote',\n",
       " 'verified',\n",
       " 'reviewTime',\n",
       " 'reviewerID',\n",
       " 'asin',\n",
       " 'reviewerName',\n",
       " 'reviewText',\n",
       " 'summary',\n",
       " 'unixReviewTime',\n",
       " 'style',\n",
       " 'image']"
      ]
     },
     "execution_count": 22,
     "metadata": {},
     "output_type": "execute_result"
    }
   ],
   "source": [
    "list(result.columns)"
   ]
  },
  {
   "cell_type": "code",
   "execution_count": 26,
   "metadata": {},
   "outputs": [],
   "source": [
    "result.drop(columns=[\"overall\",\"vote\",\"verified\",\"reviewTime\",\"reviewerID\",\"asin\",\"reviewerName\",\"summary\",\"unixReviewTime\",\"style\",\"image\"],axis=1,inplace=True)"
   ]
  },
  {
   "cell_type": "code",
   "execution_count": 27,
   "metadata": {},
   "outputs": [
    {
     "data": {
      "text/plain": [
       "(8049419, 1)"
      ]
     },
     "execution_count": 27,
     "metadata": {},
     "output_type": "execute_result"
    }
   ],
   "source": [
    "result.shape"
   ]
  },
  {
   "cell_type": "code",
   "execution_count": 29,
   "metadata": {},
   "outputs": [
    {
     "data": {
      "text/html": [
       "<div>\n",
       "<style scoped>\n",
       "    .dataframe tbody tr th:only-of-type {\n",
       "        vertical-align: middle;\n",
       "    }\n",
       "\n",
       "    .dataframe tbody tr th {\n",
       "        vertical-align: top;\n",
       "    }\n",
       "\n",
       "    .dataframe thead th {\n",
       "        text-align: right;\n",
       "    }\n",
       "</style>\n",
       "<table border=\"1\" class=\"dataframe\">\n",
       "  <thead>\n",
       "    <tr style=\"text-align: right;\">\n",
       "      <th></th>\n",
       "      <th>reviewText</th>\n",
       "    </tr>\n",
       "  </thead>\n",
       "  <tbody>\n",
       "    <tr>\n",
       "      <th>0</th>\n",
       "      <td>I don't spend a lot on my flags because they really get beat up.  So I but the lesser quality figuring that they'll have to be replaced a couple of times a year anyways.  The fact that this very inexpensive flag is still flying 8 months later pleases me well.  It's up about 20 feet, 7/24, and sees winds averaging 5 to 10 mph on a 'normal' day with the occasional storm friont gusts reaching as high as 60+ mph.  So far (8 months later) it's just now starting to show a little fraying on the ends.  I'll be buying another shortly to have ready when this one finally gives in.</td>\n",
       "    </tr>\n",
       "    <tr>\n",
       "      <th>1</th>\n",
       "      <td>Super fast processing and shipping, if you are looking for flags look no more good quality product and a great company to do business with.</td>\n",
       "    </tr>\n",
       "    <tr>\n",
       "      <th>2</th>\n",
       "      <td>Great product.  I would recommend this product.  I would recommend this product.</td>\n",
       "    </tr>\n",
       "    <tr>\n",
       "      <th>3</th>\n",
       "      <td>GREAT PRICE I LOVE MY STATE AND COUNTRY</td>\n",
       "    </tr>\n",
       "    <tr>\n",
       "      <th>4</th>\n",
       "      <td>Great display flag for the den.</td>\n",
       "    </tr>\n",
       "  </tbody>\n",
       "</table>\n",
       "</div>"
      ],
      "text/plain": [
       "                                                                                                                                                                                                                                                                                                                                                                                                                                                                                                                                                                                         reviewText\n",
       "0  I don't spend a lot on my flags because they really get beat up.  So I but the lesser quality figuring that they'll have to be replaced a couple of times a year anyways.  The fact that this very inexpensive flag is still flying 8 months later pleases me well.  It's up about 20 feet, 7/24, and sees winds averaging 5 to 10 mph on a 'normal' day with the occasional storm friont gusts reaching as high as 60+ mph.  So far (8 months later) it's just now starting to show a little fraying on the ends.  I'll be buying another shortly to have ready when this one finally gives in.\n",
       "1                                                                                                                                                                                                                                                                                                                                                                                                                                                       Super fast processing and shipping, if you are looking for flags look no more good quality product and a great company to do business with.\n",
       "2                                                                                                                                                                                                                                                                                                                                                                                                                                                                                                                  Great product.  I would recommend this product.  I would recommend this product.\n",
       "3                                                                                                                                                                                                                                                                                                                                                                                                                                                                                                                                                           GREAT PRICE I LOVE MY STATE AND COUNTRY\n",
       "4                                                                                                                                                                                                                                                                                                                                                                                                                                                                                                                                                                   Great display flag for the den."
      ]
     },
     "execution_count": 29,
     "metadata": {},
     "output_type": "execute_result"
    }
   ],
   "source": [
    "result.head()"
   ]
  },
  {
   "cell_type": "code",
   "execution_count": 30,
   "metadata": {},
   "outputs": [],
   "source": [
    "result.to_csv(\"../data/sample/data.csv\", index=False)"
   ]
  },
  {
   "cell_type": "code",
   "execution_count": null,
   "metadata": {},
   "outputs": [],
   "source": []
  }
 ],
 "metadata": {
  "kernelspec": {
   "display_name": "Python 3",
   "language": "python",
   "name": "python3"
  },
  "language_info": {
   "codemirror_mode": {
    "name": "ipython",
    "version": 3
   },
   "file_extension": ".py",
   "mimetype": "text/x-python",
   "name": "python",
   "nbconvert_exporter": "python",
   "pygments_lexer": "ipython3",
   "version": "3.7.9"
  }
 },
 "nbformat": 4,
 "nbformat_minor": 4
}
