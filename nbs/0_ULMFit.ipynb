{
 "cells": [
  {
   "cell_type": "code",
   "execution_count": 1,
   "metadata": {},
   "outputs": [],
   "source": [
    "from fastai.text.all import *\n",
    "import gc"
   ]
  },
  {
   "cell_type": "code",
   "execution_count": 2,
   "metadata": {},
   "outputs": [
    {
     "data": {
      "text/plain": [
       "True"
      ]
     },
     "execution_count": 2,
     "metadata": {},
     "output_type": "execute_result"
    }
   ],
   "source": [
    "torch.cuda.is_available()"
   ]
  },
  {
   "cell_type": "markdown",
   "metadata": {},
   "source": [
    "#### Fine-tuning a language model on Amazon Dataset Reviews\n",
    "Data source: https://nijianmo.github.io/amazon/index.html"
   ]
  },
  {
   "cell_type": "code",
   "execution_count": 3,
   "metadata": {},
   "outputs": [
    {
     "data": {
      "text/html": [
       "<img src=\"https://docs.fast.ai/images/ulmfit.png\"/>"
      ],
      "text/plain": [
       "<IPython.core.display.Image object>"
      ]
     },
     "execution_count": 3,
     "metadata": {},
     "output_type": "execute_result"
    }
   ],
   "source": [
    "from IPython.display import Image\n",
    "Image(url='https://docs.fast.ai/images/ulmfit.png')"
   ]
  },
  {
   "cell_type": "code",
   "execution_count": 4,
   "metadata": {},
   "outputs": [],
   "source": [
    "path = Path(\"..\") / \"data/sample/\""
   ]
  },
  {
   "cell_type": "code",
   "execution_count": 5,
   "metadata": {},
   "outputs": [],
   "source": [
    "df = pd.read_csv(path/\"data.csv\")\n",
    "sample_df = df.sample(frac=0.02) #forgot to set initial seed, will set before submiting"
   ]
  },
  {
   "cell_type": "code",
   "execution_count": 6,
   "metadata": {},
   "outputs": [
    {
     "data": {
      "text/plain": [
       "(160988, 1)"
      ]
     },
     "execution_count": 6,
     "metadata": {},
     "output_type": "execute_result"
    }
   ],
   "source": [
    "sample_df.shape"
   ]
  },
  {
   "cell_type": "code",
   "execution_count": 6,
   "metadata": {},
   "outputs": [
    {
     "data": {
      "text/plain": [
       "1406"
      ]
     },
     "execution_count": 6,
     "metadata": {},
     "output_type": "execute_result"
    }
   ],
   "source": [
    "del df\n",
    "gc.collect()"
   ]
  },
  {
   "cell_type": "code",
   "execution_count": 7,
   "metadata": {},
   "outputs": [
    {
     "data": {
      "text/html": [],
      "text/plain": [
       "<IPython.core.display.HTML object>"
      ]
     },
     "metadata": {},
     "output_type": "display_data"
    },
    {
     "name": "stderr",
     "output_type": "stream",
     "text": [
      "/home/lazylearner/anaconda3/envs/amazonreviews/lib/python3.7/site-packages/numpy/core/_asarray.py:83: VisibleDeprecationWarning: Creating an ndarray from ragged nested sequences (which is a list-or-tuple of lists-or-tuples-or ndarrays with different lengths or shapes) is deprecated. If you meant to do this, you must specify 'dtype=object' when creating the ndarray\n",
      "  return array(a, dtype, copy=False, order=order)\n"
     ]
    }
   ],
   "source": [
    "BATCH_SIZE = 16\n",
    "dls_lm = TextDataLoaders.from_df(sample_df, path=path, text_col=0, label_col=1, is_lm=True, bs=BATCH_SIZE, valid_pct=0.1)"
   ]
  },
  {
   "cell_type": "code",
   "execution_count": 8,
   "metadata": {},
   "outputs": [
    {
     "data": {
      "text/html": [
       "<table border=\"1\" class=\"dataframe\">\n",
       "  <thead>\n",
       "    <tr style=\"text-align: right;\">\n",
       "      <th></th>\n",
       "      <th>text</th>\n",
       "      <th>text_</th>\n",
       "    </tr>\n",
       "  </thead>\n",
       "  <tbody>\n",
       "    <tr>\n",
       "      <th>0</th>\n",
       "      <td>xxbos xxmaj my wife dreams out loud of one republic , but not of me . xxmaj thanks man . xxmaj you stole my girl . \\n\\n xxmaj good xxmaj album . xxbos xxmaj an unabashed xxmaj kinks fan for a long time now , i wondered when an enterprising producer would mine the xxmaj kinks xxunk for one of these tribute compilations . xxmaj jim xxmaj pitt 's xxmaj this xxmaj</td>\n",
       "      <td>xxmaj my wife dreams out loud of one republic , but not of me . xxmaj thanks man . xxmaj you stole my girl . \\n\\n xxmaj good xxmaj album . xxbos xxmaj an unabashed xxmaj kinks fan for a long time now , i wondered when an enterprising producer would mine the xxmaj kinks xxunk for one of these tribute compilations . xxmaj jim xxmaj pitt 's xxmaj this xxmaj is</td>\n",
       "    </tr>\n",
       "    <tr>\n",
       "      <th>1</th>\n",
       "      <td>and beauty . xxmaj it is a pleasure to write with them and they are suitable for all fountain pens . i bought a dozen of different colors . xxmaj this is a wonderful green - blue color , very subtle and elegant . xxmaj the bottle is superb . xxmaj using such an ink , everyone could personalize his / her writing . xxbos xxmaj absolutely great cable charger . i</td>\n",
       "      <td>beauty . xxmaj it is a pleasure to write with them and they are suitable for all fountain pens . i bought a dozen of different colors . xxmaj this is a wonderful green - blue color , very subtle and elegant . xxmaj the bottle is superb . xxmaj using such an ink , everyone could personalize his / her writing . xxbos xxmaj absolutely great cable charger . i love</td>\n",
       "    </tr>\n",
       "    <tr>\n",
       "      <th>2</th>\n",
       "      <td>your head . \" xxunk y xxmaj sigue \" is a lovely salsa influenced track which again is so catchy will drive you nuts . xxmaj but my favourite track is the perfectly executed \" xxunk a xxmaj poco \" , xxmaj estopa 's view on smoking . xxmaj taking from the point of a smoker it describes his feelings and why he does it and what it is doing it to</td>\n",
       "      <td>head . \" xxunk y xxmaj sigue \" is a lovely salsa influenced track which again is so catchy will drive you nuts . xxmaj but my favourite track is the perfectly executed \" xxunk a xxmaj poco \" , xxmaj estopa 's view on smoking . xxmaj taking from the point of a smoker it describes his feelings and why he does it and what it is doing it to him</td>\n",
       "    </tr>\n",
       "    <tr>\n",
       "      <th>3</th>\n",
       "      <td>xxmaj oddly , the stations seemed to play \" dogs \" now and then , even though it was not released as a single . \" give a xxmaj hand , xxmaj take a xxmaj hand \" was an older song from 1969 that the xxmaj gibbs rerecorded after xxmaj the xxmaj staple xxmaj singers did well with it . xxmaj the song styles waver through soft , sensual ballads like \"</td>\n",
       "      <td>oddly , the stations seemed to play \" dogs \" now and then , even though it was not released as a single . \" give a xxmaj hand , xxmaj take a xxmaj hand \" was an older song from 1969 that the xxmaj gibbs rerecorded after xxmaj the xxmaj staple xxmaj singers did well with it . xxmaj the song styles waver through soft , sensual ballads like \" xxunk</td>\n",
       "    </tr>\n",
       "    <tr>\n",
       "      <th>4</th>\n",
       "      <td>end 1996 xxup f250 xxbos xxmaj it works . xxbos xxmaj the only solid white leather strap i could find that did n't have any ornamentation . xxmaj it is of average quality but for the price i was n't expecting much . xxmaj it looks nice and is mostly comfortable on my black xxmaj ibanez xxup xxunk . xxbos very good xxbos i went to the local premiere of xxmaj mary</td>\n",
       "      <td>1996 xxup f250 xxbos xxmaj it works . xxbos xxmaj the only solid white leather strap i could find that did n't have any ornamentation . xxmaj it is of average quality but for the price i was n't expecting much . xxmaj it looks nice and is mostly comfortable on my black xxmaj ibanez xxup xxunk . xxbos very good xxbos i went to the local premiere of xxmaj mary xxmaj</td>\n",
       "    </tr>\n",
       "  </tbody>\n",
       "</table>"
      ],
      "text/plain": [
       "<IPython.core.display.HTML object>"
      ]
     },
     "metadata": {},
     "output_type": "display_data"
    }
   ],
   "source": [
    "dls_lm.show_batch(max_n=5)"
   ]
  },
  {
   "cell_type": "code",
   "execution_count": 9,
   "metadata": {},
   "outputs": [
    {
     "data": {
      "text/plain": [
       "16"
      ]
     },
     "execution_count": 9,
     "metadata": {},
     "output_type": "execute_result"
    }
   ],
   "source": [
    "dls_lm.bs"
   ]
  },
  {
   "cell_type": "code",
   "execution_count": 10,
   "metadata": {},
   "outputs": [],
   "source": [
    "learn = language_model_learner(dls_lm, AWD_LSTM, metrics=[accuracy, Perplexity()], path=path, wd=0.1).to_fp16()"
   ]
  },
  {
   "cell_type": "code",
   "execution_count": 11,
   "metadata": {},
   "outputs": [
    {
     "data": {
      "text/plain": [
       "SequentialRNN(\n",
       "  (0): AWD_LSTM(\n",
       "    (encoder): Embedding(43600, 400, padding_idx=1)\n",
       "    (encoder_dp): EmbeddingDropout(\n",
       "      (emb): Embedding(43600, 400, padding_idx=1)\n",
       "    )\n",
       "    (rnns): ModuleList(\n",
       "      (0): WeightDropout(\n",
       "        (module): LSTM(400, 1152, batch_first=True)\n",
       "      )\n",
       "      (1): WeightDropout(\n",
       "        (module): LSTM(1152, 1152, batch_first=True)\n",
       "      )\n",
       "      (2): WeightDropout(\n",
       "        (module): LSTM(1152, 400, batch_first=True)\n",
       "      )\n",
       "    )\n",
       "    (input_dp): RNNDropout()\n",
       "    (hidden_dps): ModuleList(\n",
       "      (0): RNNDropout()\n",
       "      (1): RNNDropout()\n",
       "      (2): RNNDropout()\n",
       "    )\n",
       "  )\n",
       "  (1): LinearDecoder(\n",
       "    (decoder): Linear(in_features=400, out_features=43600, bias=True)\n",
       "    (output_dp): RNNDropout()\n",
       "  )\n",
       ")"
      ]
     },
     "execution_count": 11,
     "metadata": {},
     "output_type": "execute_result"
    }
   ],
   "source": [
    "learn.model"
   ]
  },
  {
   "cell_type": "markdown",
   "metadata": {},
   "source": [
    "#### Train only the head of the model while the body stays frozen."
   ]
  },
  {
   "cell_type": "code",
   "execution_count": 14,
   "metadata": {},
   "outputs": [
    {
     "data": {
      "text/html": [
       "<table border=\"1\" class=\"dataframe\">\n",
       "  <thead>\n",
       "    <tr style=\"text-align: left;\">\n",
       "      <th>epoch</th>\n",
       "      <th>train_loss</th>\n",
       "      <th>valid_loss</th>\n",
       "      <th>accuracy</th>\n",
       "      <th>perplexity</th>\n",
       "      <th>time</th>\n",
       "    </tr>\n",
       "  </thead>\n",
       "  <tbody>\n",
       "    <tr>\n",
       "      <td>0</td>\n",
       "      <td>4.463609</td>\n",
       "      <td>4.205848</td>\n",
       "      <td>0.272985</td>\n",
       "      <td>67.077438</td>\n",
       "      <td>34:35</td>\n",
       "    </tr>\n",
       "  </tbody>\n",
       "</table>"
      ],
      "text/plain": [
       "<IPython.core.display.HTML object>"
      ]
     },
     "metadata": {},
     "output_type": "display_data"
    }
   ],
   "source": [
    "learn.fit_one_cycle(1, 1e-2)"
   ]
  },
  {
   "cell_type": "code",
   "execution_count": 15,
   "metadata": {},
   "outputs": [
    {
     "data": {
      "text/plain": [
       "Path('../data/sample/models/1epoch-amazon-reviews-sample.pth')"
      ]
     },
     "execution_count": 15,
     "metadata": {},
     "output_type": "execute_result"
    }
   ],
   "source": [
    "learn.save('1epoch-amazon-reviews-sample')"
   ]
  },
  {
   "cell_type": "code",
   "execution_count": 16,
   "metadata": {},
   "outputs": [],
   "source": [
    "# learn = learn.load('1epoch')"
   ]
  },
  {
   "cell_type": "markdown",
   "metadata": {},
   "source": [
    "#### Fine-tune the model after unfreezing"
   ]
  },
  {
   "cell_type": "code",
   "execution_count": 16,
   "metadata": {},
   "outputs": [
    {
     "data": {
      "text/html": [
       "<table border=\"1\" class=\"dataframe\">\n",
       "  <thead>\n",
       "    <tr style=\"text-align: left;\">\n",
       "      <th>epoch</th>\n",
       "      <th>train_loss</th>\n",
       "      <th>valid_loss</th>\n",
       "      <th>accuracy</th>\n",
       "      <th>perplexity</th>\n",
       "      <th>time</th>\n",
       "    </tr>\n",
       "  </thead>\n",
       "  <tbody>\n",
       "    <tr>\n",
       "      <td>0</td>\n",
       "      <td>4.091950</td>\n",
       "      <td>3.965241</td>\n",
       "      <td>0.294048</td>\n",
       "      <td>52.732975</td>\n",
       "      <td>1:27:53</td>\n",
       "    </tr>\n",
       "    <tr>\n",
       "      <td>1</td>\n",
       "      <td>4.138435</td>\n",
       "      <td>4.004159</td>\n",
       "      <td>0.290700</td>\n",
       "      <td>54.825722</td>\n",
       "      <td>1:50:32</td>\n",
       "    </tr>\n",
       "    <tr>\n",
       "      <td>2</td>\n",
       "      <td>4.075377</td>\n",
       "      <td>3.994715</td>\n",
       "      <td>0.291748</td>\n",
       "      <td>54.310360</td>\n",
       "      <td>2:00:35</td>\n",
       "    </tr>\n",
       "    <tr>\n",
       "      <td>3</td>\n",
       "      <td>4.099702</td>\n",
       "      <td>3.969203</td>\n",
       "      <td>0.294860</td>\n",
       "      <td>52.942307</td>\n",
       "      <td>1:47:00</td>\n",
       "    </tr>\n",
       "    <tr>\n",
       "      <td>4</td>\n",
       "      <td>3.998508</td>\n",
       "      <td>3.940119</td>\n",
       "      <td>0.298114</td>\n",
       "      <td>51.424698</td>\n",
       "      <td>1:47:01</td>\n",
       "    </tr>\n",
       "    <tr>\n",
       "      <td>5</td>\n",
       "      <td>4.016881</td>\n",
       "      <td>3.898405</td>\n",
       "      <td>0.302949</td>\n",
       "      <td>49.323696</td>\n",
       "      <td>1:47:03</td>\n",
       "    </tr>\n",
       "    <tr>\n",
       "      <td>6</td>\n",
       "      <td>3.918993</td>\n",
       "      <td>3.859989</td>\n",
       "      <td>0.307038</td>\n",
       "      <td>47.464836</td>\n",
       "      <td>1:47:01</td>\n",
       "    </tr>\n",
       "    <tr>\n",
       "      <td>7</td>\n",
       "      <td>3.890229</td>\n",
       "      <td>3.825045</td>\n",
       "      <td>0.311247</td>\n",
       "      <td>45.834869</td>\n",
       "      <td>1:47:17</td>\n",
       "    </tr>\n",
       "    <tr>\n",
       "      <td>8</td>\n",
       "      <td>3.837510</td>\n",
       "      <td>3.801839</td>\n",
       "      <td>0.314293</td>\n",
       "      <td>44.783470</td>\n",
       "      <td>1:52:52</td>\n",
       "    </tr>\n",
       "    <tr>\n",
       "      <td>9</td>\n",
       "      <td>3.823071</td>\n",
       "      <td>3.796320</td>\n",
       "      <td>0.315118</td>\n",
       "      <td>44.537006</td>\n",
       "      <td>1:48:25</td>\n",
       "    </tr>\n",
       "  </tbody>\n",
       "</table>"
      ],
      "text/plain": [
       "<IPython.core.display.HTML object>"
      ]
     },
     "metadata": {},
     "output_type": "display_data"
    }
   ],
   "source": [
    "learn.unfreeze()\n",
    "learn.fit_one_cycle(10, 1e-3)"
   ]
  },
  {
   "cell_type": "code",
   "execution_count": 17,
   "metadata": {},
   "outputs": [],
   "source": [
    "learn.save_encoder('finetuned-amazon-reviews-sample')"
   ]
  },
  {
   "cell_type": "code",
   "execution_count": 18,
   "metadata": {},
   "outputs": [
    {
     "data": {
      "text/html": [],
      "text/plain": [
       "<IPython.core.display.HTML object>"
      ]
     },
     "metadata": {},
     "output_type": "display_data"
    },
    {
     "data": {
      "text/html": [],
      "text/plain": [
       "<IPython.core.display.HTML object>"
      ]
     },
     "metadata": {},
     "output_type": "display_data"
    }
   ],
   "source": [
    "TEXT = \"Good product\"\n",
    "N_WORDS = 40\n",
    "N_SENTENCES = 2\n",
    "preds = [learn.predict(TEXT, N_WORDS, temperature=0.75) \n",
    "         for _ in range(N_SENTENCES)]"
   ]
  },
  {
   "cell_type": "code",
   "execution_count": 19,
   "metadata": {},
   "outputs": [
    {
     "name": "stdout",
     "output_type": "stream",
     "text": [
      "Good product . Easy to install . Works with removing the battery . This is a very good selection of Prince arrangements . The vocals are pretty good . This is my second\n",
      "Good product . Fast shipping . Great price . i have used this LG LG G4 Screen Protector for a month but it is a great phone . The only problem i have\n"
     ]
    }
   ],
   "source": [
    "print(\"\\n\".join(preds))"
   ]
  },
  {
   "cell_type": "code",
   "execution_count": 20,
   "metadata": {},
   "outputs": [
    {
     "data": {
      "text/html": [],
      "text/plain": [
       "<IPython.core.display.HTML object>"
      ]
     },
     "metadata": {},
     "output_type": "display_data"
    },
    {
     "data": {
      "text/html": [],
      "text/plain": [
       "<IPython.core.display.HTML object>"
      ]
     },
     "metadata": {},
     "output_type": "display_data"
    }
   ],
   "source": [
    "TEXT = \"Worst delivery\"\n",
    "N_WORDS = 40\n",
    "N_SENTENCES = 2\n",
    "preds = [learn.predict(TEXT, N_WORDS, temperature=0.75) \n",
    "         for _ in range(N_SENTENCES)]"
   ]
  },
  {
   "cell_type": "code",
   "execution_count": 21,
   "metadata": {},
   "outputs": [
    {
     "name": "stdout",
     "output_type": "stream",
     "text": [
      "Worst delivery ever . Wo n't buy again . Good product ! ZERO STARS Well , i bought this case for my daughter who has the apple iphone + 6s Plus , and she\n",
      "Worst delivery i could find from Amazon . The Top 5 masterpiece is Prince 's The 70 's Landscapes , One Day of Life , and the Rock By\n"
     ]
    }
   ],
   "source": [
    "print(\"\\n\".join(preds))"
   ]
  },
  {
   "cell_type": "code",
   "execution_count": 22,
   "metadata": {},
   "outputs": [
    {
     "data": {
      "text/html": [],
      "text/plain": [
       "<IPython.core.display.HTML object>"
      ]
     },
     "metadata": {},
     "output_type": "display_data"
    },
    {
     "data": {
      "text/html": [],
      "text/plain": [
       "<IPython.core.display.HTML object>"
      ]
     },
     "metadata": {},
     "output_type": "display_data"
    }
   ],
   "source": [
    "TEXT = \"Poor service\"\n",
    "N_WORDS = 40\n",
    "N_SENTENCES = 2\n",
    "preds = [learn.predict(TEXT, N_WORDS, temperature=0.75) \n",
    "         for _ in range(N_SENTENCES)]"
   ]
  },
  {
   "cell_type": "code",
   "execution_count": 23,
   "metadata": {},
   "outputs": [
    {
     "name": "stdout",
     "output_type": "stream",
     "text": [
      "Poor service , good price , came from China , very disappointed . It 's very small , but it 's somewhat small on the side and is very short so i have to pull it over and over\n",
      "Poor service and product This is a very nice case . It 's not too bulky but it 's very durable . i use it for my iphone 5 and it does n't worry when the phone is in\n"
     ]
    }
   ],
   "source": [
    "print(\"\\n\".join(preds))"
   ]
  },
  {
   "cell_type": "code",
   "execution_count": 36,
   "metadata": {},
   "outputs": [
    {
     "data": {
      "text/html": [],
      "text/plain": [
       "<IPython.core.display.HTML object>"
      ]
     },
     "metadata": {},
     "output_type": "display_data"
    },
    {
     "data": {
      "text/html": [],
      "text/plain": [
       "<IPython.core.display.HTML object>"
      ]
     },
     "metadata": {},
     "output_type": "display_data"
    }
   ],
   "source": [
    "TEXT = \"Looked good in pictures, fabric is also great\"\n",
    "N_WORDS = 40\n",
    "N_SENTENCES = 2\n",
    "preds = [learn.predict(TEXT, N_WORDS, temperature=0.3) \n",
    "         for _ in range(N_SENTENCES)]"
   ]
  },
  {
   "cell_type": "code",
   "execution_count": 37,
   "metadata": {},
   "outputs": [
    {
     "name": "stdout",
     "output_type": "stream",
     "text": [
      "Looked good in pictures , fabric is also great . It 's a little bit thicker than i thought it would be . But it 's a good quality , and i am very happy with it . This is a great product .\n",
      "Looked good in pictures , fabric is also great . The color is a little darker than the picture , but it 's a little more bright than the picture . It 's a nice color , but i have n't had any problems with it .\n"
     ]
    }
   ],
   "source": [
    "print(\"\\n\".join(preds))"
   ]
  },
  {
   "cell_type": "code",
   "execution_count": 38,
   "metadata": {},
   "outputs": [
    {
     "data": {
      "text/html": [],
      "text/plain": [
       "<IPython.core.display.HTML object>"
      ]
     },
     "metadata": {},
     "output_type": "display_data"
    },
    {
     "data": {
      "text/html": [],
      "text/plain": [
       "<IPython.core.display.HTML object>"
      ]
     },
     "metadata": {},
     "output_type": "display_data"
    }
   ],
   "source": [
    "TEXT = \"Not satisfied with the product\"\n",
    "N_WORDS = 40\n",
    "N_SENTENCES = 2\n",
    "preds = [learn.predict(TEXT, N_WORDS, temperature=0.3) \n",
    "         for _ in range(N_SENTENCES)]"
   ]
  },
  {
   "cell_type": "code",
   "execution_count": 39,
   "metadata": {},
   "outputs": [
    {
     "name": "stdout",
     "output_type": "stream",
     "text": [
      "Not satisfied with the product . The product was not as described . This is a great product . It is an amazing product . It is easy to use and it is easy to use . The only\n",
      "Not satisfied with the product . It is not a bad product . It is very difficult to put on and off . It does not fit the phone . It is not the case that does not fit my phone\n"
     ]
    }
   ],
   "source": [
    "print(\"\\n\".join(preds))"
   ]
  },
  {
   "cell_type": "code",
   "execution_count": 41,
   "metadata": {},
   "outputs": [
    {
     "data": {
      "text/html": [],
      "text/plain": [
       "<IPython.core.display.HTML object>"
      ]
     },
     "metadata": {},
     "output_type": "display_data"
    },
    {
     "data": {
      "text/html": [],
      "text/plain": [
       "<IPython.core.display.HTML object>"
      ]
     },
     "metadata": {},
     "output_type": "display_data"
    },
    {
     "data": {
      "text/html": [],
      "text/plain": [
       "<IPython.core.display.HTML object>"
      ]
     },
     "metadata": {},
     "output_type": "display_data"
    },
    {
     "data": {
      "text/html": [],
      "text/plain": [
       "<IPython.core.display.HTML object>"
      ]
     },
     "metadata": {},
     "output_type": "display_data"
    },
    {
     "data": {
      "text/html": [],
      "text/plain": [
       "<IPython.core.display.HTML object>"
      ]
     },
     "metadata": {},
     "output_type": "display_data"
    }
   ],
   "source": [
    "TEXT = \"This mobile cover\"\n",
    "N_WORDS = 30\n",
    "N_SENTENCES = 5\n",
    "preds = [learn.predict(TEXT, N_WORDS, temperature=0.75) \n",
    "         for _ in range(N_SENTENCES)]"
   ]
  },
  {
   "cell_type": "code",
   "execution_count": 42,
   "metadata": {},
   "outputs": [
    {
     "name": "stdout",
     "output_type": "stream",
     "text": [
      "This mobile cover is either a little flimsy and a little pricey . It is much lighter than a standard sprayer . It feels durable and is easy to use .\n",
      "This mobile cover is very easy to assemble . It is simple , well made and requires a little effort to assemble . It works well , with no effort at\n",
      "This mobile cover works great for my small backyard of home . i have several large suburban - room areas that stick into my house and i have a lot of clippings and\n",
      "This mobile cover is perfect for our Home Depot store . It is manufactured for Christmas and has held up well . i expect it to last a long\n",
      "This mobile cover for the tailgating , camping , camping trips and camping trips , is easy to manage , and it is easy to travel with a steak or grill .\n"
     ]
    }
   ],
   "source": [
    "print(\"\\n\".join(preds))"
   ]
  },
  {
   "cell_type": "code",
   "execution_count": 47,
   "metadata": {},
   "outputs": [
    {
     "data": {
      "text/html": [],
      "text/plain": [
       "<IPython.core.display.HTML object>"
      ]
     },
     "metadata": {},
     "output_type": "display_data"
    },
    {
     "data": {
      "text/html": [],
      "text/plain": [
       "<IPython.core.display.HTML object>"
      ]
     },
     "metadata": {},
     "output_type": "display_data"
    },
    {
     "data": {
      "text/html": [],
      "text/plain": [
       "<IPython.core.display.HTML object>"
      ]
     },
     "metadata": {},
     "output_type": "display_data"
    },
    {
     "data": {
      "text/html": [],
      "text/plain": [
       "<IPython.core.display.HTML object>"
      ]
     },
     "metadata": {},
     "output_type": "display_data"
    },
    {
     "data": {
      "text/html": [],
      "text/plain": [
       "<IPython.core.display.HTML object>"
      ]
     },
     "metadata": {},
     "output_type": "display_data"
    }
   ],
   "source": [
    "TEXT = \"Different product received\"\n",
    "N_WORDS = 30\n",
    "N_SENTENCES = 5\n",
    "preds = [learn.predict(TEXT, N_WORDS, temperature=0.75) \n",
    "         for _ in range(N_SENTENCES)]"
   ]
  },
  {
   "cell_type": "code",
   "execution_count": 48,
   "metadata": {},
   "outputs": [
    {
     "name": "stdout",
     "output_type": "stream",
     "text": [
      "Different product received in my opinion . Fits very well . Really like it so far . Works great , needs to be cleaned , and does n't leak\n",
      "Different product received . Not the one i was expecting . The second one was shipped immediately . The price was the worst price on the lower priced spools at\n",
      "Different product received my Black & Decker Edge Hog . It worked well and was easy to use . i use it to trim my shrubs and trees\n",
      "Different product received . This is my first bug zapper and I 've installed it on the Flowtron brand unit . It kills bugs , even with the\n",
      "Different product received by Amazon for a great product . These are pretty good . i really like them , just how they last . We got this\n"
     ]
    }
   ],
   "source": [
    "print(\"\\n\".join(preds))"
   ]
  },
  {
   "cell_type": "code",
   "execution_count": 52,
   "metadata": {},
   "outputs": [
    {
     "data": {
      "text/html": [],
      "text/plain": [
       "<IPython.core.display.HTML object>"
      ]
     },
     "metadata": {},
     "output_type": "display_data"
    },
    {
     "data": {
      "text/html": [],
      "text/plain": [
       "<IPython.core.display.HTML object>"
      ]
     },
     "metadata": {},
     "output_type": "display_data"
    }
   ],
   "source": [
    "TEXT = \"This has helped me so much\"\n",
    "N_WORDS = 20\n",
    "N_SENTENCES = 2\n",
    "preds = [learn.predict(TEXT, N_WORDS, temperature=0.7) \n",
    "         for _ in range(N_SENTENCES)]"
   ]
  },
  {
   "cell_type": "code",
   "execution_count": 53,
   "metadata": {},
   "outputs": [
    {
     "name": "stdout",
     "output_type": "stream",
     "text": [
      "This has helped me so much . It is made of a good quality quality and the price is good . This is\n",
      "This has helped me so much better . i am a huge fan of Richard Wrist . It is one of my favorite\n"
     ]
    }
   ],
   "source": [
    "print(\"\\n\".join(preds))"
   ]
  },
  {
   "cell_type": "code",
   "execution_count": 56,
   "metadata": {},
   "outputs": [
    {
     "data": {
      "text/html": [],
      "text/plain": [
       "<IPython.core.display.HTML object>"
      ]
     },
     "metadata": {},
     "output_type": "display_data"
    },
    {
     "data": {
      "text/html": [],
      "text/plain": [
       "<IPython.core.display.HTML object>"
      ]
     },
     "metadata": {},
     "output_type": "display_data"
    },
    {
     "data": {
      "text/html": [],
      "text/plain": [
       "<IPython.core.display.HTML object>"
      ]
     },
     "metadata": {},
     "output_type": "display_data"
    },
    {
     "data": {
      "text/html": [],
      "text/plain": [
       "<IPython.core.display.HTML object>"
      ]
     },
     "metadata": {},
     "output_type": "display_data"
    },
    {
     "data": {
      "text/html": [],
      "text/plain": [
       "<IPython.core.display.HTML object>"
      ]
     },
     "metadata": {},
     "output_type": "display_data"
    },
    {
     "name": "stdout",
     "output_type": "stream",
     "text": [
      "Bad product . It is a little pricey .\n",
      "Bad product . It is not a good product\n",
      "Bad product . The product is not as described\n",
      "Bad product . It is a little too small\n",
      "Bad product . Not very good .\n"
     ]
    }
   ],
   "source": [
    "TEXT = \"Bad product\"\n",
    "N_WORDS = 8\n",
    "N_SENTENCES = 5\n",
    "preds = [learn.predict(TEXT, N_WORDS, temperature=0.2) \n",
    "         for _ in range(N_SENTENCES)]\n",
    "\n",
    "print(\"\\n\".join(preds))"
   ]
  },
  {
   "cell_type": "code",
   "execution_count": null,
   "metadata": {},
   "outputs": [],
   "source": []
  }
 ],
 "metadata": {
  "kernelspec": {
   "display_name": "Python 3",
   "language": "python",
   "name": "python3"
  },
  "language_info": {
   "codemirror_mode": {
    "name": "ipython",
    "version": 3
   },
   "file_extension": ".py",
   "mimetype": "text/x-python",
   "name": "python",
   "nbconvert_exporter": "python",
   "pygments_lexer": "ipython3",
   "version": "3.7.9"
  }
 },
 "nbformat": 4,
 "nbformat_minor": 4
}
