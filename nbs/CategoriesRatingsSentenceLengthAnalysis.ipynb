{
 "cells": [
  {
   "cell_type": "code",
   "execution_count": 1,
   "metadata": {},
   "outputs": [],
   "source": [
    "from fastai.text import *\n",
    "from pathlib import Path\n",
    "import pandas as pd\n",
    "import gzip\n",
    "import json\n",
    "\n",
    "def parse(path):\n",
    "  g = gzip.open(path, 'rb')\n",
    "  for l in g:\n",
    "    yield json.loads(l)\n",
    "\n",
    "def getDF(path):\n",
    "  i = 0\n",
    "  df = {}\n",
    "  for d in parse(path):\n",
    "    text = d.get(\"reviewText\",\"\")\n",
    "    rating = d.get(\"overall\",\"\")\n",
    "    text_len = len(text.split(\" \"))\n",
    "    category = path.name.strip(\".json.gz\")\n",
    "    df[i] = text,rating,text_len,category\n",
    "    i += 1\n",
    "  return pd.DataFrame.from_dict(df, columns=[\"reviewText\",\"overall\",\"sentenceLength\",\"category\"], orient='index')"
   ]
  },
  {
   "cell_type": "code",
   "execution_count": 2,
   "metadata": {},
   "outputs": [
    {
     "data": {
      "text/plain": [
       "<generator object Path.glob at 0x7fe8278b6550>"
      ]
     },
     "execution_count": 2,
     "metadata": {},
     "output_type": "execute_result"
    }
   ],
   "source": [
    "dataset_files = Path('../data/sample_top10/').glob(\"*.gz\")\n",
    "dataset_files"
   ]
  },
  {
   "cell_type": "code",
   "execution_count": 3,
   "metadata": {},
   "outputs": [],
   "source": [
    "frames = [getDF(f) for i,f in enumerate(dataset_files)] #if i < 4"
   ]
  },
  {
   "cell_type": "code",
   "execution_count": 4,
   "metadata": {},
   "outputs": [
    {
     "data": {
      "text/plain": [
       "(pandas.core.frame.DataFrame, 5)"
      ]
     },
     "execution_count": 4,
     "metadata": {},
     "output_type": "execute_result"
    }
   ],
   "source": [
    "type(frames[0]), len(frames)"
   ]
  },
  {
   "cell_type": "code",
   "execution_count": 5,
   "metadata": {},
   "outputs": [],
   "source": [
    "result = pd.concat(frames)"
   ]
  },
  {
   "cell_type": "code",
   "execution_count": 6,
   "metadata": {},
   "outputs": [
    {
     "data": {
      "text/plain": [
       "(12400238, 4)"
      ]
     },
     "execution_count": 6,
     "metadata": {},
     "output_type": "execute_result"
    }
   ],
   "source": [
    "result.shape"
   ]
  },
  {
   "cell_type": "code",
   "execution_count": 7,
   "metadata": {},
   "outputs": [
    {
     "data": {
      "text/html": [
       "<div>\n",
       "<style scoped>\n",
       "    .dataframe tbody tr th:only-of-type {\n",
       "        vertical-align: middle;\n",
       "    }\n",
       "\n",
       "    .dataframe tbody tr th {\n",
       "        vertical-align: top;\n",
       "    }\n",
       "\n",
       "    .dataframe thead th {\n",
       "        text-align: right;\n",
       "    }\n",
       "</style>\n",
       "<table border=\"1\" class=\"dataframe\">\n",
       "  <thead>\n",
       "    <tr style=\"text-align: right;\">\n",
       "      <th></th>\n",
       "      <th>reviewText</th>\n",
       "      <th>overall</th>\n",
       "      <th>sentenceLength</th>\n",
       "      <th>category</th>\n",
       "    </tr>\n",
       "  </thead>\n",
       "  <tbody>\n",
       "    <tr>\n",
       "      <th>0</th>\n",
       "      <td>I purchased this cd for my Pocket Parrot. It h...</td>\n",
       "      <td>3.0</td>\n",
       "      <td>73</td>\n",
       "      <td>Pet_Supplies_5</td>\n",
       "    </tr>\n",
       "    <tr>\n",
       "      <th>1</th>\n",
       "      <td>Maybe it's just my Amazon parrot, but she's no...</td>\n",
       "      <td>3.0</td>\n",
       "      <td>16</td>\n",
       "      <td>Pet_Supplies_5</td>\n",
       "    </tr>\n",
       "    <tr>\n",
       "      <th>2</th>\n",
       "      <td>I bought this to help me teach my blue quaker ...</td>\n",
       "      <td>5.0</td>\n",
       "      <td>51</td>\n",
       "      <td>Pet_Supplies_5</td>\n",
       "    </tr>\n",
       "    <tr>\n",
       "      <th>3</th>\n",
       "      <td>Bird showed no interest in it....</td>\n",
       "      <td>3.0</td>\n",
       "      <td>6</td>\n",
       "      <td>Pet_Supplies_5</td>\n",
       "    </tr>\n",
       "    <tr>\n",
       "      <th>4</th>\n",
       "      <td>Didn't do a thing for my African Grey! He hate...</td>\n",
       "      <td>2.0</td>\n",
       "      <td>16</td>\n",
       "      <td>Pet_Supplies_5</td>\n",
       "    </tr>\n",
       "  </tbody>\n",
       "</table>\n",
       "</div>"
      ],
      "text/plain": [
       "                                          reviewText  overall  sentenceLength  \\\n",
       "0  I purchased this cd for my Pocket Parrot. It h...      3.0              73   \n",
       "1  Maybe it's just my Amazon parrot, but she's no...      3.0              16   \n",
       "2  I bought this to help me teach my blue quaker ...      5.0              51   \n",
       "3                  Bird showed no interest in it....      3.0               6   \n",
       "4  Didn't do a thing for my African Grey! He hate...      2.0              16   \n",
       "\n",
       "         category  \n",
       "0  Pet_Supplies_5  \n",
       "1  Pet_Supplies_5  \n",
       "2  Pet_Supplies_5  \n",
       "3  Pet_Supplies_5  \n",
       "4  Pet_Supplies_5  "
      ]
     },
     "execution_count": 7,
     "metadata": {},
     "output_type": "execute_result"
    }
   ],
   "source": [
    "result.head()"
   ]
  },
  {
   "cell_type": "code",
   "execution_count": 8,
   "metadata": {},
   "outputs": [
    {
     "data": {
      "text/html": [
       "<div>\n",
       "<style scoped>\n",
       "    .dataframe tbody tr th:only-of-type {\n",
       "        vertical-align: middle;\n",
       "    }\n",
       "\n",
       "    .dataframe tbody tr th {\n",
       "        vertical-align: top;\n",
       "    }\n",
       "\n",
       "    .dataframe thead th {\n",
       "        text-align: right;\n",
       "    }\n",
       "</style>\n",
       "<table border=\"1\" class=\"dataframe\">\n",
       "  <thead>\n",
       "    <tr style=\"text-align: right;\">\n",
       "      <th></th>\n",
       "      <th>reviewText</th>\n",
       "      <th>overall</th>\n",
       "      <th>sentenceLength</th>\n",
       "      <th>category</th>\n",
       "    </tr>\n",
       "  </thead>\n",
       "  <tbody>\n",
       "    <tr>\n",
       "      <th>3410014</th>\n",
       "      <td>The singing parts are very good as expected fr...</td>\n",
       "      <td>4.0</td>\n",
       "      <td>38</td>\n",
       "      <td>Movies_and_TV_5</td>\n",
       "    </tr>\n",
       "    <tr>\n",
       "      <th>3410015</th>\n",
       "      <td>This recording of the 2015 production by the M...</td>\n",
       "      <td>5.0</td>\n",
       "      <td>117</td>\n",
       "      <td>Movies_and_TV_5</td>\n",
       "    </tr>\n",
       "    <tr>\n",
       "      <th>3410016</th>\n",
       "      <td>I do not wish to write a review about this rel...</td>\n",
       "      <td>4.0</td>\n",
       "      <td>409</td>\n",
       "      <td>Movies_and_TV_5</td>\n",
       "    </tr>\n",
       "    <tr>\n",
       "      <th>3410017</th>\n",
       "      <td>It was a gift.</td>\n",
       "      <td>5.0</td>\n",
       "      <td>4</td>\n",
       "      <td>Movies_and_TV_5</td>\n",
       "    </tr>\n",
       "    <tr>\n",
       "      <th>3410018</th>\n",
       "      <td>This Otello originates from the Salzburg Festi...</td>\n",
       "      <td>4.0</td>\n",
       "      <td>123</td>\n",
       "      <td>Movies_and_TV_5</td>\n",
       "    </tr>\n",
       "  </tbody>\n",
       "</table>\n",
       "</div>"
      ],
      "text/plain": [
       "                                                reviewText  overall  \\\n",
       "3410014  The singing parts are very good as expected fr...      4.0   \n",
       "3410015  This recording of the 2015 production by the M...      5.0   \n",
       "3410016  I do not wish to write a review about this rel...      4.0   \n",
       "3410017                                     It was a gift.      5.0   \n",
       "3410018  This Otello originates from the Salzburg Festi...      4.0   \n",
       "\n",
       "         sentenceLength         category  \n",
       "3410014              38  Movies_and_TV_5  \n",
       "3410015             117  Movies_and_TV_5  \n",
       "3410016             409  Movies_and_TV_5  \n",
       "3410017               4  Movies_and_TV_5  \n",
       "3410018             123  Movies_and_TV_5  "
      ]
     },
     "execution_count": 8,
     "metadata": {},
     "output_type": "execute_result"
    }
   ],
   "source": [
    "result.tail()"
   ]
  },
  {
   "cell_type": "code",
   "execution_count": 9,
   "metadata": {},
   "outputs": [
    {
     "name": "stdout",
     "output_type": "stream",
     "text": [
      "Setup Complete\n"
     ]
    }
   ],
   "source": [
    "pd.plotting.register_matplotlib_converters()\n",
    "import matplotlib.pyplot as plt\n",
    "%matplotlib inline\n",
    "import seaborn as sns\n",
    "print(\"Setup Complete\")"
   ]
  },
  {
   "cell_type": "code",
   "execution_count": 37,
   "metadata": {},
   "outputs": [
    {
     "data": {
      "text/plain": [
       "Text(0.5, 1.0, '        Review counts by categories')"
      ]
     },
     "execution_count": 37,
     "metadata": {},
     "output_type": "execute_result"
    },
    {
     "data": {
      "image/png": "[encoded data removed]",
      "text/plain": [
       "<Figure size 432x288 with 1 Axes>"
      ]
     },
     "metadata": {
      "needs_background": "light"
     },
     "output_type": "display_data"
    }
   ],
   "source": [
    "sns.countplot(data=result, y=\"category\")\n",
    "plt.title(\"        Review counts by categories\")\n",
    "# plt.yticks(rotation=45)"
   ]
  },
  {
   "cell_type": "code",
   "execution_count": 39,
   "metadata": {},
   "outputs": [
    {
     "data": {
      "text/plain": [
       "Text(0, 0.5, 'Number of Reviews')"
      ]
     },
     "execution_count": 39,
     "metadata": {},
     "output_type": "execute_result"
    },
    {
     "data": {
      "image/png": "[encoded data removed]",
      "text/plain": [
       "<Figure size 432x288 with 1 Axes>"
      ]
     },
     "metadata": {
      "needs_background": "light"
     },
     "output_type": "display_data"
    }
   ],
   "source": [
    "sns.distplot(a=result[\"sentenceLength\"], kde=False)\n",
    "plt.title(\"         Reviews sentence length distribution\")\n",
    "plt.xlabel(\"Sentence Length\")\n",
    "plt.ylabel(\"Number of Reviews\")"
   ]
  },
  {
   "cell_type": "code",
   "execution_count": 35,
   "metadata": {},
   "outputs": [
    {
     "data": {
      "text/plain": [
       "Text(0, 0.5, 'Number of Reviews')"
      ]
     },
     "execution_count": 35,
     "metadata": {},
     "output_type": "execute_result"
    },
    {
     "data": {
      "image/png": "[encoded data removed]",
      "text/plain": [
       "<Figure size 432x288 with 1 Axes>"
      ]
     },
     "metadata": {
      "needs_background": "light"
     },
     "output_type": "display_data"
    }
   ],
   "source": [
    "sns.countplot(x=result[\"overall\"])\n",
    "plt.title(\"           Count of reviews by review ratings\")\n",
    "plt.xlabel(\"Rating\")\n",
    "plt.ylabel(\"Number of Reviews\")"
   ]
  },
  {
   "cell_type": "code",
   "execution_count": 13,
   "metadata": {},
   "outputs": [],
   "source": [
    "lt2000 = result[result[\"sentenceLength\"]<=2000]"
   ]
  },
  {
   "cell_type": "code",
   "execution_count": 33,
   "metadata": {},
   "outputs": [
    {
     "data": {
      "text/plain": [
       "Text(0, 0.5, 'Number of Reviews')"
      ]
     },
     "execution_count": 33,
     "metadata": {},
     "output_type": "execute_result"
    },
    {
     "data": {
      "image/png": "[encoded data removed]",
      "text/plain": [
       "<Figure size 432x288 with 1 Axes>"
      ]
     },
     "metadata": {
      "needs_background": "light"
     },
     "output_type": "display_data"
    }
   ],
   "source": [
    "sns.distplot(a=lt2000[\"sentenceLength\"], kde=False)\n",
    "plt.title(\"               Reviews sentence length distribution where len<=2000\")\n",
    "plt.xlabel(\"Sentence Length\")\n",
    "plt.ylabel(\"Number of Reviews\")"
   ]
  },
  {
   "cell_type": "code",
   "execution_count": 36,
   "metadata": {},
   "outputs": [
    {
     "data": {
      "text/plain": [
       "Text(0.5, 1.0, '      Ratings v/s Sentence Length')"
      ]
     },
     "execution_count": 36,
     "metadata": {},
     "output_type": "execute_result"
    },
    {
     "data": {
      "image/png": "[encoded data removed]",
      "text/plain": [
       "<Figure size 432x288 with 1 Axes>"
      ]
     },
     "metadata": {
      "needs_background": "light"
     },
     "output_type": "display_data"
    }
   ],
   "source": [
    "sns.scatterplot(x=result['sentenceLength'], y=result['overall'])\n",
    "plt.title(\"      Ratings v/s Sentence Length\")"
   ]
  },
  {
   "cell_type": "code",
   "execution_count": 16,
   "metadata": {},
   "outputs": [],
   "source": [
    "gt2000 = result[result[\"sentenceLength\"]>2000]"
   ]
  },
  {
   "cell_type": "code",
   "execution_count": 17,
   "metadata": {},
   "outputs": [
    {
     "data": {
      "text/plain": [
       "(1930, 4)"
      ]
     },
     "execution_count": 17,
     "metadata": {},
     "output_type": "execute_result"
    }
   ],
   "source": [
    "gt2000.shape"
   ]
  },
  {
   "cell_type": "code",
   "execution_count": 18,
   "metadata": {},
   "outputs": [
    {
     "data": {
      "text/html": [
       "<div>\n",
       "<style scoped>\n",
       "    .dataframe tbody tr th:only-of-type {\n",
       "        vertical-align: middle;\n",
       "    }\n",
       "\n",
       "    .dataframe tbody tr th {\n",
       "        vertical-align: top;\n",
       "    }\n",
       "\n",
       "    .dataframe thead th {\n",
       "        text-align: right;\n",
       "    }\n",
       "</style>\n",
       "<table border=\"1\" class=\"dataframe\">\n",
       "  <thead>\n",
       "    <tr style=\"text-align: right;\">\n",
       "      <th></th>\n",
       "      <th>reviewText</th>\n",
       "      <th>overall</th>\n",
       "      <th>sentenceLength</th>\n",
       "      <th>category</th>\n",
       "    </tr>\n",
       "  </thead>\n",
       "  <tbody>\n",
       "    <tr>\n",
       "      <th>2021934</th>\n",
       "      <td>--SPOILERS--\\n\\nLiked it more than I expected ...</td>\n",
       "      <td>2.0</td>\n",
       "      <td>2115</td>\n",
       "      <td>Movies_and_TV_5</td>\n",
       "    </tr>\n",
       "    <tr>\n",
       "      <th>2190816</th>\n",
       "      <td>NON-SPOILER REVIEW (mostly) OF CAPTAIN AMERICA...</td>\n",
       "      <td>5.0</td>\n",
       "      <td>2620</td>\n",
       "      <td>Movies_and_TV_5</td>\n",
       "    </tr>\n",
       "    <tr>\n",
       "      <th>1071257</th>\n",
       "      <td>Any meditation on early 1970's child pop cultu...</td>\n",
       "      <td>4.0</td>\n",
       "      <td>2674</td>\n",
       "      <td>Movies_and_TV_5</td>\n",
       "    </tr>\n",
       "    <tr>\n",
       "      <th>1840448</th>\n",
       "      <td>Conan the Barbarian as a film is about as subt...</td>\n",
       "      <td>5.0</td>\n",
       "      <td>2245</td>\n",
       "      <td>Movies_and_TV_5</td>\n",
       "    </tr>\n",
       "    <tr>\n",
       "      <th>1846264</th>\n",
       "      <td>(This review is about both the Theatrical and ...</td>\n",
       "      <td>4.0</td>\n",
       "      <td>2183</td>\n",
       "      <td>Movies_and_TV_5</td>\n",
       "    </tr>\n",
       "    <tr>\n",
       "      <th>2849888</th>\n",
       "      <td>He's one of the rare men in this business who ...</td>\n",
       "      <td>4.0</td>\n",
       "      <td>2988</td>\n",
       "      <td>Movies_and_TV_5</td>\n",
       "    </tr>\n",
       "    <tr>\n",
       "      <th>689898</th>\n",
       "      <td>The following is pretty much the review that I...</td>\n",
       "      <td>5.0</td>\n",
       "      <td>2049</td>\n",
       "      <td>Movies_and_TV_5</td>\n",
       "    </tr>\n",
       "    <tr>\n",
       "      <th>759366</th>\n",
       "      <td>It was hard to rate this documentary in terms ...</td>\n",
       "      <td>3.0</td>\n",
       "      <td>2485</td>\n",
       "      <td>Movies_and_TV_5</td>\n",
       "    </tr>\n",
       "    <tr>\n",
       "      <th>1151521</th>\n",
       "      <td>NOTE: I UPDATED THIS REVIEW IN 2015\\n\\nIn a sp...</td>\n",
       "      <td>5.0</td>\n",
       "      <td>3828</td>\n",
       "      <td>Movies_and_TV_5</td>\n",
       "    </tr>\n",
       "    <tr>\n",
       "      <th>3225286</th>\n",
       "      <td>NOTE: these reviews of six films of Eric Rohme...</td>\n",
       "      <td>5.0</td>\n",
       "      <td>3487</td>\n",
       "      <td>Movies_and_TV_5</td>\n",
       "    </tr>\n",
       "  </tbody>\n",
       "</table>\n",
       "</div>"
      ],
      "text/plain": [
       "                                                reviewText  overall  \\\n",
       "2021934  --SPOILERS--\\n\\nLiked it more than I expected ...      2.0   \n",
       "2190816  NON-SPOILER REVIEW (mostly) OF CAPTAIN AMERICA...      5.0   \n",
       "1071257  Any meditation on early 1970's child pop cultu...      4.0   \n",
       "1840448  Conan the Barbarian as a film is about as subt...      5.0   \n",
       "1846264  (This review is about both the Theatrical and ...      4.0   \n",
       "2849888  He's one of the rare men in this business who ...      4.0   \n",
       "689898   The following is pretty much the review that I...      5.0   \n",
       "759366   It was hard to rate this documentary in terms ...      3.0   \n",
       "1151521  NOTE: I UPDATED THIS REVIEW IN 2015\\n\\nIn a sp...      5.0   \n",
       "3225286  NOTE: these reviews of six films of Eric Rohme...      5.0   \n",
       "\n",
       "         sentenceLength         category  \n",
       "2021934            2115  Movies_and_TV_5  \n",
       "2190816            2620  Movies_and_TV_5  \n",
       "1071257            2674  Movies_and_TV_5  \n",
       "1840448            2245  Movies_and_TV_5  \n",
       "1846264            2183  Movies_and_TV_5  \n",
       "2849888            2988  Movies_and_TV_5  \n",
       "689898             2049  Movies_and_TV_5  \n",
       "759366             2485  Movies_and_TV_5  \n",
       "1151521            3828  Movies_and_TV_5  \n",
       "3225286            3487  Movies_and_TV_5  "
      ]
     },
     "execution_count": 18,
     "metadata": {},
     "output_type": "execute_result"
    }
   ],
   "source": [
    "gt2000.sample(n=10)"
   ]
  },
  {
   "cell_type": "code",
   "execution_count": 19,
   "metadata": {},
   "outputs": [],
   "source": [
    "gt350 = result[result[\"sentenceLength\"]>350]"
   ]
  },
  {
   "cell_type": "code",
   "execution_count": 20,
   "metadata": {},
   "outputs": [
    {
     "data": {
      "text/plain": [
       "(344577, 4)"
      ]
     },
     "execution_count": 20,
     "metadata": {},
     "output_type": "execute_result"
    }
   ],
   "source": [
    "gt350.shape"
   ]
  },
  {
   "cell_type": "code",
   "execution_count": 21,
   "metadata": {},
   "outputs": [
    {
     "data": {
      "text/plain": [
       "(12400238, 4)"
      ]
     },
     "execution_count": 21,
     "metadata": {},
     "output_type": "execute_result"
    }
   ],
   "source": [
    "result.shape"
   ]
  },
  {
   "cell_type": "markdown",
   "metadata": {},
   "source": [
    "#### Insights from analysis"
   ]
  },
  {
   "cell_type": "markdown",
   "metadata": {},
   "source": [
    "1. From sentence length distribution graphs we can see distribution is a bit skewed and becomes a long tail after sentence length gte 350. In fact gt2000 is only ~2.5% of overall reviews.  \n",
    "2. Review rating doesn't seem to have any correlation with sentence length as can be seen from scatterplot; every rating has majority of all length reviews. So, no need to add rating as a pivot.\n",
    "3. So, a simple stratified sampling to generate sentence initial seeds can follow below strategy:  \n",
    "   3.1. Consider top-10 categories that we have been considering.  \n",
    "   3.2. Iterate category by category and,  \n",
    "   3.3. From sample of sentences having sentence length <= 350 we can safely sample \"n\" sentences and let the sample follow original distribution. Take initials from these sentences and generate different length texts.  \n",
    "   3.4. From sample of sentences having sentence length > 350 maybe we can sample \"2n\" or \"3n\" sentences to balance our dataset for subsequent classification problem. Take initials from these sentences and generate different length texts.  "
   ]
  },
  {
   "cell_type": "code",
   "execution_count": null,
   "metadata": {},
   "outputs": [],
   "source": []
  }
 ],
 "metadata": {
  "kernelspec": {
   "display_name": "Python 3",
   "language": "python",
   "name": "python3"
  },
  "language_info": {
   "codemirror_mode": {
    "name": "ipython",
    "version": 3
   },
   "file_extension": ".py",
   "mimetype": "text/x-python",
   "name": "python",
   "nbconvert_exporter": "python",
   "pygments_lexer": "ipython3",
   "version": "3.7.9"
  }
 },
 "nbformat": 4,
 "nbformat_minor": 4
}
