{
 "cells": [
  {
   "cell_type": "markdown",
   "metadata": {},
   "source": [
    "### Detection"
   ]
  },
  {
   "cell_type": "markdown",
   "metadata": {},
   "source": [
    "#### Baseline-1\n",
    "After doing a literature survey of identifying real v/s generated text, we figured out that OpenAi has already worked upon similar problem of identifying gpt-2 output dataset from real world texts.\n",
    "Their best performing model was a finetuned roberta on webtext data. As a very first baseline we tried using their pretrained model on our validation dataset.    \n",
    "[Source](https://d4mucfpksywv.cloudfront.net/papers/GPT_2_Report.pdf)\n",
    "##### Classification Report\n"
   ]
  },
  {
   "cell_type": "markdown",
   "metadata": {},
   "source": [
    "#### Baseline-2\n",
    "We wanted to try out a very simple baseline to compare results. Tried out Naive Bayes with Logitic Regression as another baseline.   \n",
    "[Source](https://nlp.stanford.edu/pubs/sidaw12_simple_sentiment.pdf)\n",
    "\n",
    "###### Classification Report"
   ]
  },
  {
   "cell_type": "markdown",
   "metadata": {},
   "source": [
    "#### Final Model\n",
    "Inspired from the very same idea by OpenAi of finetuning RoBERTa, we decided to finetune RoBERTa on our dataset consisting of real reviews from Amazon dataset against our Generated reviews from Finetuned GPT-2 in the phase-1 of the project.\n",
    "Idea being RoBERTa is a masked and non-generative language model that does not share the same architecture or the same tokenizer as GPT-2.   \n",
    "\n",
    "The RoBERTa model was proposed in [RoBERTa: A Robustly Optimized BERT Pretraining Approach](https://arxiv.org/abs/1907.11692) by Yinhan Liu, Myle Ott, Naman Goyal, Jingfei Du, Mandar Joshi, Danqi Chen, Omer Levy, Mike Lewis, Luke Zettlemoyer, Veselin Stoyanov. It is based on Google’s BERT model released in 2018.\n",
    "It builds on BERT and modifies key hyperparameters, removing the next-sentence pretraining objective and training with much larger mini-batches and learning rates.\n",
    "[Source](https://huggingface.co/transformers/model_doc/roberta.html)\n",
    "\n",
    "##### Classification Report"
   ]
  },
  {
   "cell_type": "markdown",
   "metadata": {},
   "source": [
    "### Analysis\n",
    "\n",
    "Post analysis of our above three models against different categories of Amazon Reviews is added below:"
   ]
  },
  {
   "cell_type": "code",
   "execution_count": 7,
   "metadata": {},
   "outputs": [],
   "source": [
    "%matplotlib inline\n",
    "import matplotlib.pyplot as plt\n",
    "import seaborn as sns\n",
    "from sklearn.model_selection import train_test_split\n",
    "import pandas as pd"
   ]
  },
  {
   "cell_type": "code",
   "execution_count": 8,
   "metadata": {},
   "outputs": [],
   "source": [
    "df = pd.read_csv(\"../../data/classification/data/data.csv\")"
   ]
  },
  {
   "cell_type": "code",
   "execution_count": 9,
   "metadata": {},
   "outputs": [],
   "source": [
    "encoded_label_dict = {\"CG\" : 0, \"OR\" : 1}\n",
    "def encode_label(x):\n",
    "    return encoded_label_dict.get(x,-1)"
   ]
  },
  {
   "cell_type": "code",
   "execution_count": 10,
   "metadata": {},
   "outputs": [],
   "source": [
    "df[\"target\"] = df[\"label\"].apply(lambda x: encode_label(x))"
   ]
  },
  {
   "cell_type": "code",
   "execution_count": 11,
   "metadata": {},
   "outputs": [],
   "source": [
    "train_df, valid_df = train_test_split(df, test_size=0.2, shuffle=True, stratify=None, random_state=2021)"
   ]
  },
  {
   "cell_type": "code",
   "execution_count": 16,
   "metadata": {},
   "outputs": [],
   "source": [
    "df1 = pd.read_csv(\"../../data/classification/data/gpt2_detector_predictions.csv\")\n",
    "df2 = pd.read_csv(\"../../data/classification/data/ft_roberta_predictions.csv\")\n",
    "df3 = pd.read_csv(\"../../data/classification/data/NbLogReg_predictions.csv\")"
   ]
  },
  {
   "cell_type": "code",
   "execution_count": 19,
   "metadata": {},
   "outputs": [],
   "source": [
    "merged_df = pd.concat([valid_df.reset_index(drop=True), df1.reset_index(drop=True), df2.reset_index(drop=True), df3.reset_index(drop=True)], axis= 1)"
   ]
  },
  {
   "cell_type": "code",
   "execution_count": 20,
   "metadata": {},
   "outputs": [
    {
     "data": {
      "text/html": [
       "<div>\n",
       "<style scoped>\n",
       "    .dataframe tbody tr th:only-of-type {\n",
       "        vertical-align: middle;\n",
       "    }\n",
       "\n",
       "    .dataframe tbody tr th {\n",
       "        vertical-align: top;\n",
       "    }\n",
       "\n",
       "    .dataframe thead th {\n",
       "        text-align: right;\n",
       "    }\n",
       "</style>\n",
       "<table border=\"1\" class=\"dataframe\">\n",
       "  <thead>\n",
       "    <tr style=\"text-align: right;\">\n",
       "      <th></th>\n",
       "      <th>category</th>\n",
       "      <th>rating</th>\n",
       "      <th>label</th>\n",
       "      <th>text_</th>\n",
       "      <th>target</th>\n",
       "      <th>GPT2_Detector_Model_Probability</th>\n",
       "      <th>GPT2_Detector_Model_Prediction</th>\n",
       "      <th>Finetune_Roberta_Model_Probability</th>\n",
       "      <th>Finetune_Roberta_Model_Prediction</th>\n",
       "      <th>NbLogReg_Model_Probability</th>\n",
       "      <th>NbLogReg_Model_Prediction</th>\n",
       "    </tr>\n",
       "  </thead>\n",
       "  <tbody>\n",
       "    <tr>\n",
       "      <th>0</th>\n",
       "      <td>Electronics_5</td>\n",
       "      <td>4.0</td>\n",
       "      <td>CG</td>\n",
       "      <td>I bought this cover for my wife and she loves ...</td>\n",
       "      <td>0</td>\n",
       "      <td>0.005580</td>\n",
       "      <td>0</td>\n",
       "      <td>0.032347</td>\n",
       "      <td>0</td>\n",
       "      <td>0.000938</td>\n",
       "      <td>0</td>\n",
       "    </tr>\n",
       "    <tr>\n",
       "      <th>1</th>\n",
       "      <td>Pet_Supplies_5</td>\n",
       "      <td>5.0</td>\n",
       "      <td>CG</td>\n",
       "      <td>I have been giving this to my dog for about a ...</td>\n",
       "      <td>0</td>\n",
       "      <td>0.000172</td>\n",
       "      <td>0</td>\n",
       "      <td>0.013948</td>\n",
       "      <td>0</td>\n",
       "      <td>0.002291</td>\n",
       "      <td>0</td>\n",
       "    </tr>\n",
       "    <tr>\n",
       "      <th>2</th>\n",
       "      <td>Tools_and_Home_Improvement_5</td>\n",
       "      <td>4.0</td>\n",
       "      <td>OR</td>\n",
       "      <td>All as described, and should be for what it is...</td>\n",
       "      <td>1</td>\n",
       "      <td>0.321705</td>\n",
       "      <td>0</td>\n",
       "      <td>0.902460</td>\n",
       "      <td>1</td>\n",
       "      <td>0.921376</td>\n",
       "      <td>1</td>\n",
       "    </tr>\n",
       "    <tr>\n",
       "      <th>3</th>\n",
       "      <td>Books_5</td>\n",
       "      <td>5.0</td>\n",
       "      <td>OR</td>\n",
       "      <td>This isn't a just a zombie SAW-like story, but...</td>\n",
       "      <td>1</td>\n",
       "      <td>0.002924</td>\n",
       "      <td>0</td>\n",
       "      <td>0.999647</td>\n",
       "      <td>1</td>\n",
       "      <td>0.992723</td>\n",
       "      <td>1</td>\n",
       "    </tr>\n",
       "    <tr>\n",
       "      <th>4</th>\n",
       "      <td>Books_5</td>\n",
       "      <td>3.0</td>\n",
       "      <td>OR</td>\n",
       "      <td>This historical thriller revolves around the E...</td>\n",
       "      <td>1</td>\n",
       "      <td>0.999816</td>\n",
       "      <td>1</td>\n",
       "      <td>0.999547</td>\n",
       "      <td>1</td>\n",
       "      <td>0.990737</td>\n",
       "      <td>1</td>\n",
       "    </tr>\n",
       "  </tbody>\n",
       "</table>\n",
       "</div>"
      ],
      "text/plain": [
       "                       category  rating label  \\\n",
       "0                 Electronics_5     4.0    CG   \n",
       "1                Pet_Supplies_5     5.0    CG   \n",
       "2  Tools_and_Home_Improvement_5     4.0    OR   \n",
       "3                       Books_5     5.0    OR   \n",
       "4                       Books_5     3.0    OR   \n",
       "\n",
       "                                               text_  target  \\\n",
       "0  I bought this cover for my wife and she loves ...       0   \n",
       "1  I have been giving this to my dog for about a ...       0   \n",
       "2  All as described, and should be for what it is...       1   \n",
       "3  This isn't a just a zombie SAW-like story, but...       1   \n",
       "4  This historical thriller revolves around the E...       1   \n",
       "\n",
       "   GPT2_Detector_Model_Probability  GPT2_Detector_Model_Prediction  \\\n",
       "0                         0.005580                               0   \n",
       "1                         0.000172                               0   \n",
       "2                         0.321705                               0   \n",
       "3                         0.002924                               0   \n",
       "4                         0.999816                               1   \n",
       "\n",
       "   Finetune_Roberta_Model_Probability  Finetune_Roberta_Model_Prediction  \\\n",
       "0                            0.032347                                  0   \n",
       "1                            0.013948                                  0   \n",
       "2                            0.902460                                  1   \n",
       "3                            0.999647                                  1   \n",
       "4                            0.999547                                  1   \n",
       "\n",
       "   NbLogReg_Model_Probability  NbLogReg_Model_Prediction  \n",
       "0                    0.000938                          0  \n",
       "1                    0.002291                          0  \n",
       "2                    0.921376                          1  \n",
       "3                    0.992723                          1  \n",
       "4                    0.990737                          1  "
      ]
     },
     "execution_count": 20,
     "metadata": {},
     "output_type": "execute_result"
    }
   ],
   "source": [
    "merged_df.head()"
   ]
  },
  {
   "cell_type": "code",
   "execution_count": null,
   "metadata": {},
   "outputs": [],
   "source": [
    "merged_df.to_csv(\"../../data/classification/data/MergedPredictions.csv\",index=None)"
   ]
  },
  {
   "cell_type": "code",
   "execution_count": 49,
   "metadata": {},
   "outputs": [],
   "source": [
    "merged_df[\"gpt2_matched\"] = merged_df[\"target\"] == merged_df[\"GPT2_Detector_Model_Prediction\"]\n",
    "merged_df[\"roberta_matched\"] = merged_df[\"target\"] == merged_df[\"Finetune_Roberta_Model_Prediction\"]\n",
    "merged_df[\"nb_matched\"] = merged_df[\"target\"] == merged_df[\"NbLogReg_Model_Prediction\"]"
   ]
  },
  {
   "cell_type": "code",
   "execution_count": 70,
   "metadata": {},
   "outputs": [],
   "source": [
    "gpt2_category_acc = merged_df.groupby(\"category\")[\"gpt2_matched\"].mean()*100"
   ]
  },
  {
   "cell_type": "code",
   "execution_count": 71,
   "metadata": {},
   "outputs": [],
   "source": [
    "roberta_category_acc = merged_df.groupby(\"category\")[\"roberta_matched\"].mean()*100"
   ]
  },
  {
   "cell_type": "code",
   "execution_count": 72,
   "metadata": {},
   "outputs": [],
   "source": [
    "nb_category_acc = merged_df.groupby(\"category\")[\"nb_matched\"].mean()*100"
   ]
  },
  {
   "cell_type": "code",
   "execution_count": 73,
   "metadata": {
    "scrolled": false
   },
   "outputs": [
    {
     "data": {
      "text/plain": [
       "Text(0.5, 1.0, 'Accuracies across categories for NBLogisticRegression')"
      ]
     },
     "execution_count": 73,
     "metadata": {},
     "output_type": "execute_result"
    },
    {
     "data": {
      "image/png": "[encoded data removed]",
      "text/plain": [
       "<Figure size 432x288 with 1 Axes>"
      ]
     },
     "metadata": {
      "needs_background": "light"
     },
     "output_type": "display_data"
    }
   ],
   "source": [
    "sns.barplot(x=nb_category_acc.values,y=nb_category_acc.index)\n",
    "plt.title(\"Accuracies across categories for NBLogisticRegression\")"
   ]
  },
  {
   "cell_type": "code",
   "execution_count": 74,
   "metadata": {},
   "outputs": [
    {
     "data": {
      "text/plain": [
       "Text(0.5, 1.0, 'Accuracies across categories for GPT2-OutputDetector')"
      ]
     },
     "execution_count": 74,
     "metadata": {},
     "output_type": "execute_result"
    },
    {
     "data": {
      "image/png": "[encoded data removed]",
      "text/plain": [
       "<Figure size 432x288 with 1 Axes>"
      ]
     },
     "metadata": {
      "needs_background": "light"
     },
     "output_type": "display_data"
    }
   ],
   "source": [
    "sns.barplot(x=gpt2_category_acc.values,y=gpt2_category_acc.index)\n",
    "plt.title(\"Accuracies across categories for GPT2-OutputDetector\")\n",
    "# plt.yticks(rotation=45)"
   ]
  },
  {
   "cell_type": "code",
   "execution_count": 75,
   "metadata": {},
   "outputs": [
    {
     "data": {
      "text/plain": [
       "Text(0.5, 1.0, 'Accuracies across categories for Finetuned Roberta')"
      ]
     },
     "execution_count": 75,
     "metadata": {},
     "output_type": "execute_result"
    },
    {
     "data": {
      "image/png": "[encoded data removed]",
      "text/plain": [
       "<Figure size 432x288 with 1 Axes>"
      ]
     },
     "metadata": {
      "needs_background": "light"
     },
     "output_type": "display_data"
    }
   ],
   "source": [
    "sns.barplot(x=roberta_category_acc.values,y=roberta_category_acc.index)\n",
    "plt.title(\"Accuracies across categories for Finetuned Roberta\")\n",
    "# plt.yticks(rotation=45)"
   ]
  },
  {
   "cell_type": "code",
   "execution_count": null,
   "metadata": {},
   "outputs": [],
   "source": []
  }
 ],
 "metadata": {
  "kernelspec": {
   "display_name": "Python 3",
   "language": "python",
   "name": "python3"
  },
  "language_info": {
   "codemirror_mode": {
    "name": "ipython",
    "version": 3
   },
   "file_extension": ".py",
   "mimetype": "text/x-python",
   "name": "python",
   "nbconvert_exporter": "python",
   "pygments_lexer": "ipython3",
   "version": "3.7.9"
  }
 },
 "nbformat": 4,
 "nbformat_minor": 4
}
