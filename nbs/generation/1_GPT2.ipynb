{
 "cells": [
  {
   "cell_type": "code",
   "execution_count": 1,
   "metadata": {},
   "outputs": [],
   "source": [
    "import gc"
   ]
  },
  {
   "cell_type": "code",
   "execution_count": 2,
   "metadata": {},
   "outputs": [],
   "source": [
    "from transformers import GPT2LMHeadModel, GPT2TokenizerFast\n",
    "from fastai.text.all import *"
   ]
  },
  {
   "cell_type": "code",
   "execution_count": 3,
   "metadata": {},
   "outputs": [],
   "source": [
    "pretrained_weights = 'gpt2'\n",
    "tokenizer = GPT2TokenizerFast.from_pretrained(pretrained_weights)\n",
    "model = GPT2LMHeadModel.from_pretrained(pretrained_weights)"
   ]
  },
  {
   "cell_type": "markdown",
   "metadata": {},
   "source": [
    "#### Fine-tuning GPT-2 model on Amazon Dataset Reviews\n",
    "Data source: https://nijianmo.github.io/amazon/index.html"
   ]
  },
  {
   "cell_type": "code",
   "execution_count": 4,
   "metadata": {},
   "outputs": [],
   "source": [
    "DATA_ROOT = Path(\"..\") / \"data/Books_5/\"\n",
    "df = pd.read_csv(DATA_ROOT / 'data.csv', sep=\",\")"
   ]
  },
  {
   "cell_type": "code",
   "execution_count": 5,
   "metadata": {},
   "outputs": [
    {
     "data": {
      "text/html": [
       "<div>\n",
       "<style scoped>\n",
       "    .dataframe tbody tr th:only-of-type {\n",
       "        vertical-align: middle;\n",
       "    }\n",
       "\n",
       "    .dataframe tbody tr th {\n",
       "        vertical-align: top;\n",
       "    }\n",
       "\n",
       "    .dataframe thead th {\n",
       "        text-align: right;\n",
       "    }\n",
       "</style>\n",
       "<table border=\"1\" class=\"dataframe\">\n",
       "  <thead>\n",
       "    <tr style=\"text-align: right;\">\n",
       "      <th></th>\n",
       "      <th>reviewText</th>\n",
       "    </tr>\n",
       "  </thead>\n",
       "  <tbody>\n",
       "    <tr>\n",
       "      <th>0</th>\n",
       "      <td>The King, the Mice and the Cheese by Nancy Gurney is an excellent children's book.  It is one that I well remember from my own childhood and purchased for my daughter who loves it.\\n\\nIt is about a king who has trouble with rude mice eating his cheese. He consults his wise men and they suggest cats to chase away the mice. The cats become a nuisance, so the wise men recommend the king bring in dogs to chase the cats away.  The cycle goes on until the mice are finally brought back to chase away the elephants, brought in to chase away the lions that'd chased away the dogs.\\n\\nThe story ends i...</td>\n",
       "    </tr>\n",
       "    <tr>\n",
       "      <th>1</th>\n",
       "      <td>The kids loved it!</td>\n",
       "    </tr>\n",
       "    <tr>\n",
       "      <th>2</th>\n",
       "      <td>My students (3 &amp; 4 year olds) loved this book!  Definitely recommend it to other teachers.</td>\n",
       "    </tr>\n",
       "    <tr>\n",
       "      <th>3</th>\n",
       "      <td>LOVE IT</td>\n",
       "    </tr>\n",
       "    <tr>\n",
       "      <th>4</th>\n",
       "      <td>Great!</td>\n",
       "    </tr>\n",
       "  </tbody>\n",
       "</table>\n",
       "</div>"
      ],
      "text/plain": [
       "                                                                                                                                                                                                                                                                                                                                                                                                                                                                                                                                                                                                                reviewText\n",
       "0  The King, the Mice and the Cheese by Nancy Gurney is an excellent children's book.  It is one that I well remember from my own childhood and purchased for my daughter who loves it.\\n\\nIt is about a king who has trouble with rude mice eating his cheese. He consults his wise men and they suggest cats to chase away the mice. The cats become a nuisance, so the wise men recommend the king bring in dogs to chase the cats away.  The cycle goes on until the mice are finally brought back to chase away the elephants, brought in to chase away the lions that'd chased away the dogs.\\n\\nThe story ends i...\n",
       "1                                                                                                                                                                                                                                                                                                                                                                                                                                                                                                                                                                                                       The kids loved it!\n",
       "2                                                                                                                                                                                                                                                                                                                                                                                                                                                                                                                               My students (3 & 4 year olds) loved this book!  Definitely recommend it to other teachers.\n",
       "3                                                                                                                                                                                                                                                                                                                                                                                                                                                                                                                                                                                                                  LOVE IT\n",
       "4                                                                                                                                                                                                                                                                                                                                                                                                                                                                                                                                                                                                                   Great!"
      ]
     },
     "execution_count": 5,
     "metadata": {},
     "output_type": "execute_result"
    }
   ],
   "source": [
    "df.head()"
   ]
  },
  {
   "cell_type": "code",
   "execution_count": 6,
   "metadata": {},
   "outputs": [],
   "source": [
    "sample_df = df.sample(n=50000, random_state=2021).dropna().reset_index()"
   ]
  },
  {
   "cell_type": "code",
   "execution_count": 7,
   "metadata": {},
   "outputs": [
    {
     "data": {
      "text/plain": [
       "368"
      ]
     },
     "execution_count": 7,
     "metadata": {},
     "output_type": "execute_result"
    }
   ],
   "source": [
    "del df\n",
    "gc.collect()"
   ]
  },
  {
   "cell_type": "code",
   "execution_count": 8,
   "metadata": {},
   "outputs": [],
   "source": [
    "from sklearn.model_selection import train_test_split"
   ]
  },
  {
   "cell_type": "code",
   "execution_count": 9,
   "metadata": {},
   "outputs": [],
   "source": [
    "df_train, df_valid = train_test_split(sample_df, random_state=2021, test_size=0.1)"
   ]
  },
  {
   "cell_type": "code",
   "execution_count": 10,
   "metadata": {},
   "outputs": [],
   "source": [
    "all_texts = np.concatenate([df_train[\"reviewText\"].values, df_valid[\"reviewText\"].values])"
   ]
  },
  {
   "cell_type": "code",
   "execution_count": 11,
   "metadata": {},
   "outputs": [
    {
     "data": {
      "text/plain": [
       "(49995,)"
      ]
     },
     "execution_count": 11,
     "metadata": {},
     "output_type": "execute_result"
    }
   ],
   "source": [
    "all_texts.shape"
   ]
  },
  {
   "cell_type": "code",
   "execution_count": 12,
   "metadata": {},
   "outputs": [],
   "source": [
    "class TransformersTokenizer(Transform):\n",
    "    def __init__(self, tokenizer): self.tokenizer = tokenizer\n",
    "    def encodes(self, x): \n",
    "        toks = self.tokenizer.tokenize(x)\n",
    "        return tensor(self.tokenizer.convert_tokens_to_ids(toks))\n",
    "    def decodes(self, x): return TitledStr(self.tokenizer.decode(x.cpu().numpy()))"
   ]
  },
  {
   "cell_type": "code",
   "execution_count": 13,
   "metadata": {},
   "outputs": [],
   "source": [
    "splits = [list(df_train.index), list(df_valid.index)]\n",
    "tls = TfmdLists(all_texts, TransformersTokenizer(tokenizer), splits=splits, dl_type=LMDataLoader)"
   ]
  },
  {
   "cell_type": "code",
   "execution_count": 14,
   "metadata": {},
   "outputs": [
    {
     "data": {
      "text/plain": [
       "tensor([  464,  1738,   314,  6497,   510,   428,  1492,   373,   780,   314,\n",
       "         2497,   326,   257,  3807,   373,   852,   925,   329,   340,    13,\n",
       "        11204, 11040,   314,  3066,   284,  1577,   340,   257,  2823,    13,\n",
       "         3914,   502,  1560,   345,   428,  1492,  2753,   345,   319,   884,\n",
       "          257,  6594,    13,   383,  1492,   481,  1394,   345, 25260,   290,\n",
       "          772,   379,   262,   886,   618,   345,   892,   663,   477, 12939,\n",
       "          345,   481,   765,   284,   467,   284,   262,  1306,  1492,   655,\n",
       "          284,   766,   644,  4325,    13])"
      ]
     },
     "execution_count": 14,
     "metadata": {},
     "output_type": "execute_result"
    }
   ],
   "source": [
    "tls.train[0]"
   ]
  },
  {
   "cell_type": "code",
   "execution_count": 15,
   "metadata": {},
   "outputs": [
    {
     "data": {
      "text/plain": [
       "tensor([ 1212,   373,  6833,  2449, 30921, 16929,    13,   314,  1107,  8359,\n",
       "          340,    13])"
      ]
     },
     "execution_count": 15,
     "metadata": {},
     "output_type": "execute_result"
    }
   ],
   "source": [
    "tls.valid[0]"
   ]
  },
  {
   "cell_type": "code",
   "execution_count": 16,
   "metadata": {},
   "outputs": [
    {
     "data": {
      "text/plain": [
       "(torch.Size([75]), torch.Size([12]))"
      ]
     },
     "execution_count": 16,
     "metadata": {},
     "output_type": "execute_result"
    }
   ],
   "source": [
    "tls.tfms(tls.train.items[0]).shape, tls.tfms(tls.valid.items[0]).shape"
   ]
  },
  {
   "cell_type": "code",
   "execution_count": 17,
   "metadata": {},
   "outputs": [
    {
     "name": "stdout",
     "output_type": "stream",
     "text": [
      "The reason I picked up this book was because I saw that a movie was being made for it. Being curious I decided to give it a shot. Let me tell you this book takes you on such a ride. The book will keep you guessing and even at the end when you think its all resolved you will want to go to the next book just to see what happens.\n"
     ]
    }
   ],
   "source": [
    "show_at(tls.train, 0)"
   ]
  },
  {
   "cell_type": "code",
   "execution_count": 18,
   "metadata": {},
   "outputs": [
    {
     "name": "stdout",
     "output_type": "stream",
     "text": [
      "This was classic Agatha Christie. I really enjoyed it.\n"
     ]
    }
   ],
   "source": [
    "show_at(tls.valid, 0)"
   ]
  },
  {
   "cell_type": "code",
   "execution_count": 19,
   "metadata": {},
   "outputs": [
    {
     "name": "stderr",
     "output_type": "stream",
     "text": [
      "Token indices sequence length is longer than the specified maximum sequence length for this model (1602 > 1024). Running this sequence through the model will result in indexing errors\n"
     ]
    }
   ],
   "source": [
    "bs,sl = 4,256\n",
    "dls = tls.dataloaders(bs=bs, seq_len=sl)"
   ]
  },
  {
   "cell_type": "code",
   "execution_count": 20,
   "metadata": {},
   "outputs": [
    {
     "data": {
      "text/html": [
       "<table border=\"1\" class=\"dataframe\">\n",
       "  <thead>\n",
       "    <tr style=\"text-align: right;\">\n",
       "      <th></th>\n",
       "      <th>text</th>\n",
       "      <th>text_</th>\n",
       "    </tr>\n",
       "  </thead>\n",
       "  <tbody>\n",
       "    <tr>\n",
       "      <th>0</th>\n",
       "      <td>I bought this book for preparing for SUn Certfied Enterprise Architect assignment( part II). I am very happy with this book. It gives examples for all J2EE patterns in a very lucid way and this book has helped me a lot.In this second book in the series Stephanie Plum proves herself to be the worst bounty hunter around.  She's inept, easily frightened and doesn't like to carry or fire a gun.  When she and Grandma team up, they become a hilarious deadly duo.  This was a quick, fun read.An important resource when concerned with the debate about guns and violence in American society. This book deals with facts, meticulously researched and eliminates the emotionalism that so often permeates this issue. It has held up well after nearly 2 decades and no one has been able to seriously undermine or refute the conclusions.Very dangerous advice that goes against</td>\n",
       "      <td>bought this book for preparing for SUn Certfied Enterprise Architect assignment( part II). I am very happy with this book. It gives examples for all J2EE patterns in a very lucid way and this book has helped me a lot.In this second book in the series Stephanie Plum proves herself to be the worst bounty hunter around.  She's inept, easily frightened and doesn't like to carry or fire a gun.  When she and Grandma team up, they become a hilarious deadly duo.  This was a quick, fun read.An important resource when concerned with the debate about guns and violence in American society. This book deals with facts, meticulously researched and eliminates the emotionalism that so often permeates this issue. It has held up well after nearly 2 decades and no one has been able to seriously undermine or refute the conclusions.Very dangerous advice that goes against</td>\n",
       "    </tr>\n",
       "    <tr>\n",
       "      <th>1</th>\n",
       "      <td>(or -\"ahead\") which has become standard in popular fiction.  As used by Lindsay, these serve the purpose, but are also an eloquent introduction to Dexter.\\n\\nThe real story begins with the discovery of the bloodless dissected/disarticulated corpse of a prostitute, on a section of SW 8th Street (Calle Ocho) where Dexter's foster sister Debra is working vice, dressed as a prostitute.  Debra desperately wants out of the vice squad into the detective department.\\n\\nAs the story develops, similarities between Dexter's methods and the killer's methods become more evident.  Moreover, Dexter has \"visions\" of what the killer is doing, and the killer seems to know what Dexter is doing.  Dexter begins to worry that he himself may be the killer, \"sleep killing\".\\n\\nTHE VERDICT\\nDexter is an intriguing character. The plot is well paced, and captivating.\\n\\n&gt; Click on Stoney just below the product title to see my other reviews, or</td>\n",
       "      <td>or -\"ahead\") which has become standard in popular fiction.  As used by Lindsay, these serve the purpose, but are also an eloquent introduction to Dexter.\\n\\nThe real story begins with the discovery of the bloodless dissected/disarticulated corpse of a prostitute, on a section of SW 8th Street (Calle Ocho) where Dexter's foster sister Debra is working vice, dressed as a prostitute.  Debra desperately wants out of the vice squad into the detective department.\\n\\nAs the story develops, similarities between Dexter's methods and the killer's methods become more evident.  Moreover, Dexter has \"visions\" of what the killer is doing, and the killer seems to know what Dexter is doing.  Dexter begins to worry that he himself may be the killer, \"sleep killing\".\\n\\nTHE VERDICT\\nDexter is an intriguing character. The plot is well paced, and captivating.\\n\\n&gt; Click on Stoney just below the product title to see my other reviews, or leave</td>\n",
       "    </tr>\n",
       "  </tbody>\n",
       "</table>"
      ],
      "text/plain": [
       "<IPython.core.display.HTML object>"
      ]
     },
     "metadata": {},
     "output_type": "display_data"
    }
   ],
   "source": [
    "dls.show_batch(max_n=2)"
   ]
  },
  {
   "cell_type": "markdown",
   "metadata": {},
   "source": [
    "#### Fine-tuning the model"
   ]
  },
  {
   "cell_type": "code",
   "execution_count": 21,
   "metadata": {},
   "outputs": [],
   "source": [
    "class DropOutput(Callback):\n",
    "    def after_pred(self): self.learn.pred = self.pred[0]"
   ]
  },
  {
   "cell_type": "code",
   "execution_count": 22,
   "metadata": {},
   "outputs": [],
   "source": [
    "learn = Learner(dls, model, loss_func=CrossEntropyLossFlat(), cbs=[DropOutput], metrics=Perplexity()).to_fp16()"
   ]
  },
  {
   "cell_type": "code",
   "execution_count": 23,
   "metadata": {},
   "outputs": [
    {
     "data": {
      "text/html": [],
      "text/plain": [
       "<IPython.core.display.HTML object>"
      ]
     },
     "metadata": {},
     "output_type": "display_data"
    },
    {
     "data": {
      "text/plain": [
       "(#2) [3.7357964515686035,41.92140197753906]"
      ]
     },
     "execution_count": 23,
     "metadata": {},
     "output_type": "execute_result"
    }
   ],
   "source": [
    "learn.validate()"
   ]
  },
  {
   "cell_type": "code",
   "execution_count": 32,
   "metadata": {},
   "outputs": [
    {
     "data": {
      "text/html": [],
      "text/plain": [
       "<IPython.core.display.HTML object>"
      ]
     },
     "metadata": {},
     "output_type": "display_data"
    },
    {
     "data": {
      "text/plain": [
       "SuggestedLRs(lr_min=0.014454397559165954, lr_steep=0.12022644281387329)"
      ]
     },
     "execution_count": 32,
     "metadata": {},
     "output_type": "execute_result"
    },
    {
     "data": {
      "image/png": "[encoded data removed]",
      "text/plain": [
       "<Figure size 432x288 with 1 Axes>"
      ]
     },
     "metadata": {
      "needs_background": "light"
     },
     "output_type": "display_data"
    }
   ],
   "source": [
    "learn.lr_find()"
   ]
  },
  {
   "cell_type": "code",
   "execution_count": 24,
   "metadata": {},
   "outputs": [
    {
     "data": {
      "text/html": [
       "<table border=\"1\" class=\"dataframe\">\n",
       "  <thead>\n",
       "    <tr style=\"text-align: left;\">\n",
       "      <th>epoch</th>\n",
       "      <th>train_loss</th>\n",
       "      <th>valid_loss</th>\n",
       "      <th>perplexity</th>\n",
       "      <th>time</th>\n",
       "    </tr>\n",
       "  </thead>\n",
       "  <tbody>\n",
       "    <tr>\n",
       "      <td>0</td>\n",
       "      <td>3.520243</td>\n",
       "      <td>3.487821</td>\n",
       "      <td>32.714573</td>\n",
       "      <td>2:31:39</td>\n",
       "    </tr>\n",
       "  </tbody>\n",
       "</table>"
      ],
      "text/plain": [
       "<IPython.core.display.HTML object>"
      ]
     },
     "metadata": {},
     "output_type": "display_data"
    }
   ],
   "source": [
    "learn.fit_one_cycle(1, 1e-4)"
   ]
  },
  {
   "cell_type": "code",
   "execution_count": 25,
   "metadata": {},
   "outputs": [
    {
     "data": {
      "text/plain": [
       "Path('models/gpt2-finetuned-amazon-reviews-sample-1cycle-Books_5.pth')"
      ]
     },
     "execution_count": 25,
     "metadata": {},
     "output_type": "execute_result"
    }
   ],
   "source": [
    "learn.save(\"gpt2-finetuned-amazon-reviews-sample-1cycle-Books_5\")"
   ]
  },
  {
   "cell_type": "code",
   "execution_count": 35,
   "metadata": {},
   "outputs": [
    {
     "data": {
      "text/html": [
       "<div>\n",
       "<style scoped>\n",
       "    .dataframe tbody tr th:only-of-type {\n",
       "        vertical-align: middle;\n",
       "    }\n",
       "\n",
       "    .dataframe tbody tr th {\n",
       "        vertical-align: top;\n",
       "    }\n",
       "\n",
       "    .dataframe thead th {\n",
       "        text-align: right;\n",
       "    }\n",
       "</style>\n",
       "<table border=\"1\" class=\"dataframe\">\n",
       "  <thead>\n",
       "    <tr style=\"text-align: right;\">\n",
       "      <th></th>\n",
       "      <th>index</th>\n",
       "      <th>reviewText</th>\n",
       "    </tr>\n",
       "  </thead>\n",
       "  <tbody>\n",
       "    <tr>\n",
       "      <th>17432</th>\n",
       "      <td>1013850</td>\n",
       "      <td>Haven't bought the new and improved edition of \"Viva\" yet, but you can't go wrong with the tracks featured here. The scintillating \"Margaret on the Guillotine\" sums it all up: clever, cunning, and cutting. Morrissey is in remarkably clear voice throughout, and his lyrics are alternately verbose, focused, and incredibly deep(\"Everyday is Like Sunday\", a ballad about a hoped-for end of the world, remains one of his most trenchant and yet appealing songs). This is terribly sophisticated and intricate music, crisply produced and arranged with delicate malice.</td>\n",
       "    </tr>\n",
       "  </tbody>\n",
       "</table>\n",
       "</div>"
      ],
      "text/plain": [
       "         index  \\\n",
       "17432  1013850   \n",
       "\n",
       "                                                                                                                                                                                                                                                                                                                                                                                                                                                                                                                                                                              reviewText  \n",
       "17432  Haven't bought the new and improved edition of \"Viva\" yet, but you can't go wrong with the tracks featured here. The scintillating \"Margaret on the Guillotine\" sums it all up: clever, cunning, and cutting. Morrissey is in remarkably clear voice throughout, and his lyrics are alternately verbose, focused, and incredibly deep(\"Everyday is Like Sunday\", a ballad about a hoped-for end of the world, remains one of his most trenchant and yet appealing songs). This is terribly sophisticated and intricate music, crisply produced and arranged with delicate malice.  "
      ]
     },
     "execution_count": 35,
     "metadata": {},
     "output_type": "execute_result"
    }
   ],
   "source": [
    "df_valid.head(1)"
   ]
  },
  {
   "cell_type": "code",
   "execution_count": 57,
   "metadata": {},
   "outputs": [],
   "source": [
    "prompt = \"Looked good in pictures, fabric is also\""
   ]
  },
  {
   "cell_type": "code",
   "execution_count": 58,
   "metadata": {},
   "outputs": [
    {
     "data": {
      "text/plain": [
       "torch.Size([1, 9])"
      ]
     },
     "execution_count": 58,
     "metadata": {},
     "output_type": "execute_result"
    }
   ],
   "source": [
    "prompt_ids = tokenizer.encode(prompt)\n",
    "inp = tensor(prompt_ids)[None].cuda()\n",
    "inp.shape"
   ]
  },
  {
   "cell_type": "code",
   "execution_count": 59,
   "metadata": {},
   "outputs": [
    {
     "name": "stderr",
     "output_type": "stream",
     "text": [
      "Setting `pad_token_id` to `eos_token_id`:50256 for open-end generation.\n"
     ]
    }
   ],
   "source": [
    "preds = learn.model.generate(inp, max_length=40, num_beams=5, temperature=0.75, early_stopping=True, no_repeat_ngram_size=2)"
   ]
  },
  {
   "cell_type": "code",
   "execution_count": 60,
   "metadata": {},
   "outputs": [
    {
     "data": {
      "text/plain": [
       "'Looked good in pictures, fabric is also very soft.  I would recommend this product to anyone looking for a good quality fabric for the price.This is a great product. I have used it'"
      ]
     },
     "execution_count": 60,
     "metadata": {},
     "output_type": "execute_result"
    }
   ],
   "source": [
    "tokenizer.decode(preds[0].cpu().numpy())"
   ]
  },
  {
   "cell_type": "code",
   "execution_count": 61,
   "metadata": {},
   "outputs": [],
   "source": [
    "prompt = \"Not satisfied with the product\""
   ]
  },
  {
   "cell_type": "code",
   "execution_count": 62,
   "metadata": {},
   "outputs": [
    {
     "data": {
      "text/plain": [
       "torch.Size([1, 5])"
      ]
     },
     "execution_count": 62,
     "metadata": {},
     "output_type": "execute_result"
    }
   ],
   "source": [
    "prompt_ids = tokenizer.encode(prompt)\n",
    "inp = tensor(prompt_ids)[None].cuda()\n",
    "inp.shape"
   ]
  },
  {
   "cell_type": "code",
   "execution_count": 71,
   "metadata": {},
   "outputs": [
    {
     "name": "stderr",
     "output_type": "stream",
     "text": [
      "Setting `pad_token_id` to `eos_token_id`:50256 for open-end generation.\n"
     ]
    }
   ],
   "source": [
    "preds = learn.model.generate(inp, max_length=50, num_beams=5, temperature=0.75, early_stopping=True, no_repeat_ngram_size=2, num_return_sequences=5)"
   ]
  },
  {
   "cell_type": "code",
   "execution_count": 72,
   "metadata": {},
   "outputs": [
    {
     "data": {
      "text/plain": [
       "'Not satisfied with the product.  I would not recommend this product to anyone.This is one of the best albums I have ever listened to. It is a great album, but it is not as good as the first one. The second one is'"
      ]
     },
     "execution_count": 72,
     "metadata": {},
     "output_type": "execute_result"
    }
   ],
   "source": [
    "tokenizer.decode(preds[0].cpu().numpy())"
   ]
  },
  {
   "cell_type": "code",
   "execution_count": 74,
   "metadata": {},
   "outputs": [
    {
     "name": "stdout",
     "output_type": "stream",
     "text": [
      "0: Not satisfied with the product.  I would not recommend this product to anyone.This is one of the best albums I have ever listened to. It is a great album, but it is not as good as the first one. The second one is\n",
      "1: Not satisfied with the product.  I would not recommend this product to anyone.This is one of the best albums I have ever listened to. It is a great album, but it is not as good as the first album. The second album is\n",
      "2: Not satisfied with the product.  I would not recommend this product to anyone.This is one of the best albums I have ever listened to. It is a great album, but it is not as good as the first album. The second one is\n",
      "3: Not satisfied with the product.  I would not recommend this product to anyone.This is one of the best albums I have ever listened to. It is a great album, and I highly recommend it to all of you.I love this case.\n",
      "4: Not satisfied with the product.  I would not recommend this product to anyone.This is one of the best albums I have ever listened to. It is a great album, but it is not as good as the first one. The second one was\n"
     ]
    }
   ],
   "source": [
    "for i, pred in enumerate(preds):\n",
    "  print(\"{}: {}\".format(i, tokenizer.decode(pred, skip_special_tokens=True)))"
   ]
  },
  {
   "cell_type": "code",
   "execution_count": 75,
   "metadata": {},
   "outputs": [],
   "source": [
    "prompt = \"This mobile cover\""
   ]
  },
  {
   "cell_type": "code",
   "execution_count": 76,
   "metadata": {},
   "outputs": [
    {
     "data": {
      "text/plain": [
       "torch.Size([1, 3])"
      ]
     },
     "execution_count": 76,
     "metadata": {},
     "output_type": "execute_result"
    }
   ],
   "source": [
    "prompt_ids = tokenizer.encode(prompt)\n",
    "inp = tensor(prompt_ids)[None].cuda()\n",
    "inp.shape"
   ]
  },
  {
   "cell_type": "code",
   "execution_count": 77,
   "metadata": {},
   "outputs": [
    {
     "name": "stderr",
     "output_type": "stream",
     "text": [
      "Setting `pad_token_id` to `eos_token_id`:50256 for open-end generation.\n"
     ]
    }
   ],
   "source": [
    "preds = learn.model.generate(inp, max_length=50, num_beams=5, temperature=0.75, early_stopping=True, no_repeat_ngram_size=2, num_return_sequences=5)"
   ]
  },
  {
   "cell_type": "code",
   "execution_count": 78,
   "metadata": {},
   "outputs": [
    {
     "data": {
      "text/plain": [
       "'This mobile cover is a great addition to your phone.  It is easy to put on and off, and it has a nice feel to it.\\n\\nI would highly recommend this cover to anyone looking for a cover that will protect their phone from'"
      ]
     },
     "execution_count": 78,
     "metadata": {},
     "output_type": "execute_result"
    }
   ],
   "source": [
    "tokenizer.decode(preds[0].cpu().numpy())"
   ]
  },
  {
   "cell_type": "code",
   "execution_count": 79,
   "metadata": {},
   "outputs": [
    {
     "name": "stdout",
     "output_type": "stream",
     "text": [
      "0: This mobile cover is a great addition to your phone.  It is easy to put on and off, and it has a nice feel to it.\n",
      "\n",
      "I would highly recommend this cover to anyone looking for a cover that will protect their phone from\n",
      "1: This mobile cover is a great addition to your phone.  It is easy to put on and off, and it has a nice feel to it.\n",
      "\n",
      "I would recommend this cover to anyone looking for a cover that will protect their phone from scratches\n",
      "2: This mobile cover is a great addition to your phone.  It is easy to put on and off, and it has a nice feel to it.\n",
      "\n",
      "I would recommend this cover to anyone looking for a cover that will protect their phone from the\n",
      "3: This mobile cover is a great addition to your phone.  It is easy to put on and off, and it has a nice feel to it.\n",
      "\n",
      "I would highly recommend this cover to anyone looking for a cover that will protect their phone and\n",
      "4: This mobile cover is a great addition to your phone.  It is easy to put on and off, and it has a nice feel to it.\n",
      "\n",
      "I would highly recommend this cover to anyone looking for a cover that will protect their phone while\n"
     ]
    }
   ],
   "source": [
    "for i, pred in enumerate(preds):\n",
    "  print(\"{}: {}\".format(i, tokenizer.decode(pred, skip_special_tokens=True)))"
   ]
  },
  {
   "cell_type": "code",
   "execution_count": 96,
   "metadata": {},
   "outputs": [],
   "source": [
    "prompt = \"This has helped me so much\""
   ]
  },
  {
   "cell_type": "code",
   "execution_count": 97,
   "metadata": {},
   "outputs": [
    {
     "data": {
      "text/plain": [
       "torch.Size([1, 6])"
      ]
     },
     "execution_count": 97,
     "metadata": {},
     "output_type": "execute_result"
    }
   ],
   "source": [
    "prompt_ids = tokenizer.encode(prompt)\n",
    "inp = tensor(prompt_ids)[None].cuda()\n",
    "inp.shape"
   ]
  },
  {
   "cell_type": "code",
   "execution_count": 98,
   "metadata": {},
   "outputs": [
    {
     "name": "stderr",
     "output_type": "stream",
     "text": [
      "Setting `pad_token_id` to `eos_token_id`:50256 for open-end generation.\n"
     ]
    }
   ],
   "source": [
    "preds = learn.model.generate(inp, max_length=50, num_beams=5, temperature=0.75, early_stopping=True, no_repeat_ngram_size=2, num_return_sequences=5)"
   ]
  },
  {
   "cell_type": "code",
   "execution_count": 99,
   "metadata": {},
   "outputs": [
    {
     "data": {
      "text/plain": [
       "\"This has helped me so much in my life.  It's a great way to keep track of what's going on in your life and what you need to do to make it better.\\n\\nI've been using this for about a year now\""
      ]
     },
     "execution_count": 99,
     "metadata": {},
     "output_type": "execute_result"
    }
   ],
   "source": [
    "tokenizer.decode(preds[0].cpu().numpy())"
   ]
  },
  {
   "cell_type": "code",
   "execution_count": 100,
   "metadata": {},
   "outputs": [
    {
     "name": "stdout",
     "output_type": "stream",
     "text": [
      "0: This has helped me so much in my life.  It's a great way to keep track of what's going on in your life and what you need to do to make it better.\n",
      "\n",
      "I've been using this for about a year now\n",
      "1: This has helped me so much in my life.  It's a great way to keep track of what's going on in your life and what you need to do to get it done.\n",
      "\n",
      "I've been using this for about a year now\n",
      "2: This has helped me so much in my life.  It's a great way to keep track of what's going on in your life and what you need to do to get it done.\n",
      "\n",
      "I've been using this for a while now and\n",
      "3: This has helped me so much in my life.  It's a great way to keep track of what's going on in your life and what you need to do to make it better.\n",
      "\n",
      "I've been using this for a while now and\n",
      "4: This has helped me so much in my life.  It's a great way to keep track of what's going on in your life and what you need to do to make it better.\n",
      "\n",
      "I've been using this for about a month now\n"
     ]
    }
   ],
   "source": [
    "for i, pred in enumerate(preds):\n",
    "  print(\"{}: {}\".format(i, tokenizer.decode(pred, skip_special_tokens=True)))"
   ]
  },
  {
   "cell_type": "markdown",
   "metadata": {},
   "source": [
    "#### Sampling"
   ]
  },
  {
   "cell_type": "code",
   "execution_count": 101,
   "metadata": {},
   "outputs": [],
   "source": [
    "prompt = \"This has helped me so much\""
   ]
  },
  {
   "cell_type": "code",
   "execution_count": 102,
   "metadata": {},
   "outputs": [
    {
     "data": {
      "text/plain": [
       "torch.Size([1, 6])"
      ]
     },
     "execution_count": 102,
     "metadata": {},
     "output_type": "execute_result"
    }
   ],
   "source": [
    "prompt_ids = tokenizer.encode(prompt)\n",
    "inp = tensor(prompt_ids)[None].cuda()\n",
    "inp.shape"
   ]
  },
  {
   "cell_type": "code",
   "execution_count": 106,
   "metadata": {},
   "outputs": [
    {
     "name": "stderr",
     "output_type": "stream",
     "text": [
      "Setting `pad_token_id` to `eos_token_id`:50256 for open-end generation.\n"
     ]
    }
   ],
   "source": [
    "preds = learn.model.generate(inp, max_length=50, do_sample=True, top_k=0, num_return_sequences=5, temperature=0.7)"
   ]
  },
  {
   "cell_type": "code",
   "execution_count": 107,
   "metadata": {},
   "outputs": [
    {
     "data": {
      "text/plain": [
       "\"This has helped me so much.  The only reason that I don't give it a 2 star is because of the quality of the phone.  I was hoping for a better case, but, it appears that it was not as sleek as I\""
      ]
     },
     "execution_count": 107,
     "metadata": {},
     "output_type": "execute_result"
    }
   ],
   "source": [
    "tokenizer.decode(preds[0].cpu().numpy())"
   ]
  },
  {
   "cell_type": "code",
   "execution_count": 108,
   "metadata": {},
   "outputs": [
    {
     "name": "stdout",
     "output_type": "stream",
     "text": [
      "0: This has helped me so much.  The only reason that I don't give it a 2 star is because of the quality of the phone.  I was hoping for a better case, but, it appears that it was not as sleek as I\n",
      "1: This has helped me so much. And I have used it once before and it works great. I have used it on my phone 3 times and it lasts me a night. I have a couple of other phones and the quality is excellent. I have\n",
      "2: This has helped me so much.Very good flaps.  Has a very nice, flexible plastic bottom to hold the screws that hold the wiper to the rims on the handle.  I have been using these to hold the rims from\n",
      "3: This has helped me so much in the past. I can now see what the bag is made of. I have to ask about it before I buy it. I will likely get another one for my son. I can't wait to get the package\n",
      "4: This has helped me so much. The remastering is a real plus. I just wish it was better.\n",
      "\n",
      "I'm going to continue to listen to this music.good productVery nice case.  very nice.  I like that\n"
     ]
    }
   ],
   "source": [
    "for i, pred in enumerate(preds):\n",
    "  print(\"{}: {}\".format(i, tokenizer.decode(pred, skip_special_tokens=True)))"
   ]
  },
  {
   "cell_type": "code",
   "execution_count": null,
   "metadata": {},
   "outputs": [],
   "source": []
  },
  {
   "cell_type": "markdown",
   "metadata": {},
   "source": [
    "#### top-k sampling"
   ]
  },
  {
   "cell_type": "code",
   "execution_count": 109,
   "metadata": {},
   "outputs": [],
   "source": [
    "prompt = \"This has helped me so much\""
   ]
  },
  {
   "cell_type": "code",
   "execution_count": 110,
   "metadata": {},
   "outputs": [
    {
     "data": {
      "text/plain": [
       "torch.Size([1, 6])"
      ]
     },
     "execution_count": 110,
     "metadata": {},
     "output_type": "execute_result"
    }
   ],
   "source": [
    "prompt_ids = tokenizer.encode(prompt)\n",
    "inp = tensor(prompt_ids)[None].cuda()\n",
    "inp.shape"
   ]
  },
  {
   "cell_type": "code",
   "execution_count": 111,
   "metadata": {},
   "outputs": [
    {
     "name": "stderr",
     "output_type": "stream",
     "text": [
      "Setting `pad_token_id` to `eos_token_id`:50256 for open-end generation.\n"
     ]
    }
   ],
   "source": [
    "preds = learn.model.generate(inp, max_length=50, do_sample=True, top_k=50, num_return_sequences=5, temperature=0.7)"
   ]
  },
  {
   "cell_type": "code",
   "execution_count": 112,
   "metadata": {},
   "outputs": [
    {
     "data": {
      "text/plain": [
       "\"This has helped me so much in the past.  It's really easy to use and it's very easy to apply.  Just grab your phone and put it on the mat.  Then take the phone and put your hand over the mat.\""
      ]
     },
     "execution_count": 112,
     "metadata": {},
     "output_type": "execute_result"
    }
   ],
   "source": [
    "tokenizer.decode(preds[0].cpu().numpy())"
   ]
  },
  {
   "cell_type": "code",
   "execution_count": 113,
   "metadata": {},
   "outputs": [
    {
     "name": "stdout",
     "output_type": "stream",
     "text": [
      "0: This has helped me so much in the past.  It's really easy to use and it's very easy to apply.  Just grab your phone and put it on the mat.  Then take the phone and put your hand over the mat.\n",
      "1: This has helped me so much. I still get my coffee, but the flavor is a little bitter. This is a very good coffee at $1.99 a cup. It is a very good coffee at $5.59. I would buy\n",
      "2: This has helped me so much.  I could not be happier with this purchase.  I have made so many friends with the same product.  I hope they will not stop using this product again.  Thank you.  I am so glad\n",
      "3: This has helped me so much and I still get used to it!\n",
      "\n",
      "I've had two different cases but this one is the one I wanted and was perfect. It is the only case I have never had problems with. I would recommend it\n",
      "4: This has helped me so much. I have a small pond in the backyard and this is an amazing pond. I have ponded it twice on my pond and it still holds up very well. I have been using this pond for a long time and\n"
     ]
    }
   ],
   "source": [
    "for i, pred in enumerate(preds):\n",
    "  print(\"{}: {}\".format(i, tokenizer.decode(pred, skip_special_tokens=True)))"
   ]
  },
  {
   "cell_type": "code",
   "execution_count": null,
   "metadata": {},
   "outputs": [],
   "source": []
  },
  {
   "cell_type": "markdown",
   "metadata": {},
   "source": [
    "#### top-p nucleus sampling"
   ]
  },
  {
   "cell_type": "code",
   "execution_count": 114,
   "metadata": {},
   "outputs": [],
   "source": [
    "prompt = \"This has helped me so much\""
   ]
  },
  {
   "cell_type": "code",
   "execution_count": 115,
   "metadata": {},
   "outputs": [
    {
     "data": {
      "text/plain": [
       "torch.Size([1, 6])"
      ]
     },
     "execution_count": 115,
     "metadata": {},
     "output_type": "execute_result"
    }
   ],
   "source": [
    "prompt_ids = tokenizer.encode(prompt)\n",
    "inp = tensor(prompt_ids)[None].cuda()\n",
    "inp.shape"
   ]
  },
  {
   "cell_type": "code",
   "execution_count": 116,
   "metadata": {},
   "outputs": [
    {
     "name": "stderr",
     "output_type": "stream",
     "text": [
      "Setting `pad_token_id` to `eos_token_id`:50256 for open-end generation.\n"
     ]
    }
   ],
   "source": [
    "preds = learn.model.generate(inp, max_length=50, do_sample=True, top_k=0, top_p=0.92, num_return_sequences=5, temperature=0.7)"
   ]
  },
  {
   "cell_type": "code",
   "execution_count": 117,
   "metadata": {},
   "outputs": [
    {
     "data": {
      "text/plain": [
       "'This has helped me so much. I keep my two cell phones charged and charged. It was a little hard to put on because it had the right height and I had to pull my phone out of the charger. I did it by holding the phone'"
      ]
     },
     "execution_count": 117,
     "metadata": {},
     "output_type": "execute_result"
    }
   ],
   "source": [
    "tokenizer.decode(preds[0].cpu().numpy())"
   ]
  },
  {
   "cell_type": "code",
   "execution_count": 118,
   "metadata": {},
   "outputs": [
    {
     "name": "stdout",
     "output_type": "stream",
     "text": [
      "0: This has helped me so much. I keep my two cell phones charged and charged. It was a little hard to put on because it had the right height and I had to pull my phone out of the charger. I did it by holding the phone\n",
      "1: This has helped me so much since I was a kid.  The band has changed the way I think about music and I like that they've made a little more music than the typical radio and TV.  When I saw this CD, I was\n",
      "2: This has helped me so much.I love this tea. I have tried several brands and this one has the best flavor. The tea is just so strong, I can take it away from my glee. I enjoy the taste of coffee, but\n",
      "3: This has helped me so much.  I have had this for three years now and it works well.  I have a friend who works at a local auto repair shop and it works perfectly.  I have to tell you this is the first time\n",
      "4: This has helped me so much in my life.  I know I will be buying this again.I'm a bit concerned about the way the photo has been taken. I'm not sure if the quality of the photo is better than the photo itself\n"
     ]
    }
   ],
   "source": [
    "for i, pred in enumerate(preds):\n",
    "  print(\"{}: {}\".format(i, tokenizer.decode(pred, skip_special_tokens=True)))"
   ]
  },
  {
   "cell_type": "code",
   "execution_count": null,
   "metadata": {},
   "outputs": [],
   "source": []
  }
 ],
 "metadata": {
  "kernelspec": {
   "display_name": "Python 3",
   "language": "python",
   "name": "python3"
  },
  "language_info": {
   "codemirror_mode": {
    "name": "ipython",
    "version": 3
   },
   "file_extension": ".py",
   "mimetype": "text/x-python",
   "name": "python",
   "nbconvert_exporter": "python",
   "pygments_lexer": "ipython3",
   "version": "3.7.9"
  }
 },
 "nbformat": 4,
 "nbformat_minor": 4
}
